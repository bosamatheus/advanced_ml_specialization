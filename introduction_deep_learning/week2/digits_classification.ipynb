{
 "cells": [
  {
   "cell_type": "markdown",
   "metadata": {
    "slideshow": {
     "slide_type": "slide"
    }
   },
   "source": [
    "# MNIST digits classification with TensorFlow"
   ]
  },
  {
   "cell_type": "markdown",
   "metadata": {},
   "source": [
    "<img src=\"images/mnist_sample.png\" style=\"width:30%\">"
   ]
  },
  {
   "cell_type": "code",
   "execution_count": 1,
   "metadata": {},
   "outputs": [
    {
     "name": "stdout",
     "output_type": "stream",
     "text": [
      "We're using TF 1.2.1\n"
     ]
    }
   ],
   "source": [
    "import numpy as np\n",
    "from sklearn.metrics import accuracy_score\n",
    "from matplotlib import pyplot as plt\n",
    "%matplotlib inline\n",
    "import tensorflow as tf\n",
    "print(\"We're using TF\", tf.__version__)"
   ]
  },
  {
   "cell_type": "code",
   "execution_count": 2,
   "metadata": {},
   "outputs": [
    {
     "name": "stderr",
     "output_type": "stream",
     "text": [
      "Using TensorFlow backend.\n"
     ]
    }
   ],
   "source": [
    "import sys\n",
    "sys.path.append(\"../..\")\n",
    "import grading\n",
    "\n",
    "import matplotlib_utils\n",
    "from importlib import reload\n",
    "reload(matplotlib_utils)\n",
    "\n",
    "import grading_utils\n",
    "reload(grading_utils)\n",
    "\n",
    "import keras_utils\n",
    "from keras_utils import reset_tf_session"
   ]
  },
  {
   "cell_type": "markdown",
   "metadata": {},
   "source": [
    "# Fill in your Coursera token and email\n",
    "To successfully submit your answers to our grader, please fill in your Coursera submission token and email"
   ]
  },
  {
   "cell_type": "code",
   "execution_count": 3,
   "metadata": {
    "collapsed": true
   },
   "outputs": [],
   "source": [
    "grader = grading.Grader(assignment_key=\"XtD7ho3TEeiHQBLWejjYAA\", \n",
    "                        all_parts=[\"9XaAS\", \"vmogZ\", \"RMv95\", \"i8bgs\", \"rE763\"])"
   ]
  },
  {
   "cell_type": "code",
   "execution_count": 33,
   "metadata": {
    "collapsed": true
   },
   "outputs": [],
   "source": [
    "# token expires every 30 min\n",
    "COURSERA_TOKEN = \"\"\n",
    "COURSERA_EMAIL = \"\""
   ]
  },
  {
   "cell_type": "markdown",
   "metadata": {},
   "source": [
    "# Look at the data\n",
    "\n",
    "In this task we have 50000 28x28 images of digits from 0 to 9.\n",
    "We will train a classifier on this data."
   ]
  },
  {
   "cell_type": "code",
   "execution_count": 5,
   "metadata": {
    "collapsed": true
   },
   "outputs": [],
   "source": [
    "import preprocessed_mnist\n",
    "X_train, y_train, X_val, y_val, X_test, y_test = preprocessed_mnist.load_dataset_from_file()"
   ]
  },
  {
   "cell_type": "code",
   "execution_count": 6,
   "metadata": {},
   "outputs": [
    {
     "name": "stdout",
     "output_type": "stream",
     "text": [
      "X_train [shape (50000, 28, 28)] sample patch:\n",
      " [[ 0.          0.29803922  0.96470588  0.98823529  0.43921569]\n",
      " [ 0.          0.33333333  0.98823529  0.90196078  0.09803922]\n",
      " [ 0.          0.33333333  0.98823529  0.8745098   0.        ]\n",
      " [ 0.          0.33333333  0.98823529  0.56862745  0.        ]\n",
      " [ 0.          0.3372549   0.99215686  0.88235294  0.        ]]\n",
      "A closeup of a sample patch:\n"
     ]
    },
    {
     "data": {
      "image/png": "[encoded data removed]",
      "text/plain": [
       "<matplotlib.figure.Figure at 0x7f41eea0f588>"
      ]
     },
     "metadata": {},
     "output_type": "display_data"
    },
    {
     "name": "stdout",
     "output_type": "stream",
     "text": [
      "And the whole sample:\n"
     ]
    },
    {
     "data": {
      "image/png": "[encoded data removed]",
      "text/plain": [
       "<matplotlib.figure.Figure at 0x7f41ee442eb8>"
      ]
     },
     "metadata": {},
     "output_type": "display_data"
    },
    {
     "name": "stdout",
     "output_type": "stream",
     "text": [
      "y_train [shape (50000,)] 10 samples:\n",
      " [5 0 4 1 9 2 1 3 1 4]\n"
     ]
    }
   ],
   "source": [
    "# X contains rgb values divided by 255\n",
    "print(\"X_train [shape %s] sample patch:\\n\" % (str(X_train.shape)), X_train[1, 15:20, 5:10])\n",
    "print(\"A closeup of a sample patch:\")\n",
    "plt.imshow(X_train[1, 15:20, 5:10], cmap=\"Greys\")\n",
    "plt.show()\n",
    "print(\"And the whole sample:\")\n",
    "plt.imshow(X_train[1], cmap=\"Greys\")\n",
    "plt.show()\n",
    "print(\"y_train [shape %s] 10 samples:\\n\" % (str(y_train.shape)), y_train[:10])"
   ]
  },
  {
   "cell_type": "markdown",
   "metadata": {},
   "source": [
    "# Linear model\n",
    "\n",
    "Your task is to train a linear classifier $\\vec{x} \\rightarrow y$ with SGD using TensorFlow.\n",
    "\n",
    "You will need to calculate a logit (a linear transformation) $z_k$ for each class: \n",
    "$$z_k = \\vec{x} \\cdot \\vec{w_k} + b_k \\quad k = 0..9$$\n",
    "\n",
    "And transform logits $z_k$ to valid probabilities $p_k$ with softmax: \n",
    "$$p_k = \\frac{e^{z_k}}{\\sum_{i=0}^{9}{e^{z_i}}} \\quad k = 0..9$$\n",
    "\n",
    "We will use a cross-entropy loss to train our multi-class classifier:\n",
    "$$\\text{cross-entropy}(y, p) = -\\sum_{k=0}^{9}{\\log(p_k)[y = k]}$$ \n",
    "\n",
    "where \n",
    "$$\n",
    "[x]=\\begin{cases}\n",
    "       1, \\quad \\text{if $x$ is true} \\\\\n",
    "       0, \\quad \\text{otherwise}\n",
    "    \\end{cases}\n",
    "$$\n",
    "\n",
    "Cross-entropy minimization pushes $p_k$ close to 1 when $y = k$, which is what we want.\n",
    "\n",
    "Here's the plan:\n",
    "* Flatten the images (28x28 -> 784) with `X_train.reshape((X_train.shape[0], -1))` to simplify our linear model implementation\n",
    "* Use a matrix placeholder for flattened `X_train`\n",
    "* Convert `y_train` to one-hot encoded vectors that are needed for cross-entropy\n",
    "* Use a shared variable `W` for all weights (a column $\\vec{w_k}$ per class) and `b` for all biases.\n",
    "* Aim for ~0.93 validation accuracy"
   ]
  },
  {
   "cell_type": "code",
   "execution_count": 7,
   "metadata": {},
   "outputs": [
    {
     "name": "stdout",
     "output_type": "stream",
     "text": [
      "(50000, 784)\n",
      "(10000, 784)\n"
     ]
    }
   ],
   "source": [
    "X_train_flat = X_train.reshape((X_train.shape[0], -1))\n",
    "print(X_train_flat.shape)\n",
    "\n",
    "X_val_flat = X_val.reshape((X_val.shape[0], -1))\n",
    "print(X_val_flat.shape)"
   ]
  },
  {
   "cell_type": "code",
   "execution_count": 8,
   "metadata": {},
   "outputs": [
    {
     "name": "stdout",
     "output_type": "stream",
     "text": [
      "(50000, 10)\n",
      "[[ 0.  0.  0.  0.  0.  1.  0.  0.  0.  0.]\n",
      " [ 1.  0.  0.  0.  0.  0.  0.  0.  0.  0.]\n",
      " [ 0.  0.  0.  0.  1.  0.  0.  0.  0.  0.]] [5 0 4]\n"
     ]
    }
   ],
   "source": [
    "import keras\n",
    "\n",
    "y_train_oh = keras.utils.to_categorical(y_train, 10)\n",
    "y_val_oh = keras.utils.to_categorical(y_val, 10)\n",
    "\n",
    "print(y_train_oh.shape)\n",
    "print(y_train_oh[:3], y_train[:3])"
   ]
  },
  {
   "cell_type": "code",
   "execution_count": 9,
   "metadata": {
    "collapsed": true
   },
   "outputs": [],
   "source": [
    "# run this again if you remake your graph\n",
    "s = reset_tf_session()"
   ]
  },
  {
   "cell_type": "code",
   "execution_count": 10,
   "metadata": {},
   "outputs": [],
   "source": [
    "# Model parameters: W and b\n",
    "W = tf.get_variable(name='weights', shape=(784, 10)) # tf.get_variable(...) with shape[0] = 784\n",
    "b = tf.get_variable(name='bias', shape=(10)) # tf.get_variable(...)"
   ]
  },
  {
   "cell_type": "code",
   "execution_count": 11,
   "metadata": {
    "collapsed": true
   },
   "outputs": [],
   "source": [
    "# Placeholders for the input data\n",
    "input_X = tf.placeholder('float32', shape=(None, 784)) # tf.placeholder(...) for flat X with shape[0] = None for any batch size\n",
    "input_y = tf.placeholder('float32', shape=(None, 10)) # tf.placeholder(...) for one-hot encoded true labels"
   ]
  },
  {
   "cell_type": "code",
   "execution_count": 26,
   "metadata": {},
   "outputs": [],
   "source": [
    "# Compute predictions\n",
    "logits = tf.layers.dense(input_X, 10) # logits for input_X, resulting shape should be [input_X.shape[0], 10]\n",
    "\n",
    "probas = tf.nn.softmax(logits) # apply tf.nn.softmax to logits\n",
    "classes = tf.argmax(probas, axis=1) # apply tf.argmax to find a class index with highest probability\n",
    "\n",
    "# Loss should be a scalar number: average loss over all the objects with tf.reduce_mean().\n",
    "# Use tf.nn.softmax_cross_entropy_with_logits on top of one-hot encoded input_y and logits.\n",
    "# It is identical to calculating cross-entropy on top of probas, but is more numerically friendly (read the docs).\n",
    "loss = tf.reduce_mean(tf.nn.softmax_cross_entropy_with_logits(labels=input_y, logits=logits)) # cross-entropy loss\n",
    "\n",
    "# Use a default tf.train.AdamOptimizer to get an SGD step\n",
    "step = tf.train.AdamOptimizer(0.003).minimize(loss) # optimizer step that minimizes the loss"
   ]
  },
  {
   "cell_type": "code",
   "execution_count": 27,
   "metadata": {
    "scrolled": false
   },
   "outputs": [
    {
     "data": {
      "text/html": [
       "<img src=\"data:image/jpeg;base64,/9j/4AAQSkZJRgABAQAAAQABAAD/2wBDAAIBAQEBAQIBAQECAgICAgQDAgICAgUEBAMEBgUGBgYFBgYGBwkIBgcJBwYGCAsICQoKCgoKBggLDAsKDAkKCgr/2wBDAQICAgICAgUDAwUKBwYHCgoKCgoKCgoKCgoKCgoKCgoKCgoKCgoKCgoKCgoKCgoKCgoKCgoKCgoKCgoKCgoKCgr/wAARCAEgA2ADASIAAhEBAxEB/8QAHwAAAQUBAQEBAQEAAAAAAAAAAAECAwQFBgcICQoL/8QAtRAAAgEDAwIEAwUFBAQAAAF9AQIDAAQRBRIhMUEGE1FhByJxFDKBkaEII0KxwRVS0fAkM2JyggkKFhcYGRolJicoKSo0NTY3ODk6Q0RFRkdISUpTVFVWV1hZWmNkZWZnaGlqc3R1dnd4eXqDhIWGh4iJipKTlJWWl5iZmqKjpKWmp6ipqrKztLW2t7i5usLDxMXGx8jJytLT1NXW19jZ2uHi4%2BTl5ufo6erx8vP09fb3%2BPn6/8QAHwEAAwEBAQEBAQEBAQAAAAAAAAECAwQFBgcICQoL/8QAtREAAgECBAQDBAcFBAQAAQJ3AAECAxEEBSExBhJBUQdhcRMiMoEIFEKRobHBCSMzUvAVYnLRChYkNOEl8RcYGRomJygpKjU2Nzg5OkNERUZHSElKU1RVVldYWVpjZGVmZ2hpanN0dXZ3eHl6goOEhYaHiImKkpOUlZaXmJmaoqOkpaanqKmqsrO0tba3uLm6wsPExcbHyMnK0tPU1dbX2Nna4uPk5ebn6Onq8vP09fb3%2BPn6/9oADAMBAAIRAxEAPwD9/KKKKACiiigAooooAKKKKACiiigAooooAKKKKACiiigAooooAKKKKACiiigAooooAKKKKACiiigAooooAKKKKACiiigAooooAKKKKACiiigAooooAKKKKACiiigAooooAKKKKACiiigAooooAKKKKACiiigAooooAKKKKACiiigAooooAKKKKACiiigAooooAKKKKACiiigAooooAKKKKACiiigAooooAKKKKACiiigAooooAKKKKACiiigAooooAKKKKACiiigAooooAKKKKACiiigAooooAKKKKACiiigAooooAKKKKACiiigAooooAKKKKACiiigAooooAKKKKACiiigAooooAKKKKACvPfjt%2B1J8FP2b5NGsfil4g1Maj4ilnTQNB8OeF9R1zVNR8lVed4bHTbee5kjiVkMkixlI96biu5c%2BhV4N%2B0P8D/j5/wANJ%2BDv2tv2bLLwfrWueH/B2seFNX8KeOdcutLtLywv7mwuxcQXtraXj288U2noCpt3WVJSCUKK1ABpf/BTL9izWLvxPb2nxXv0h8FWsk/jLUrvwXrEFjoIS0iu9l5dy2iwWsrQzRskMjrJIWKorMrKL2n/APBQ/wDZK1HwBrXxFTx/q9vB4f1ay0vVdE1DwNrNrrkV5ebfscC6PNaLqEr3AYGER27eaAxTcFYjy2b9gH4y%2BMf2a/jn8NfGHinwppHin4o/FS38daHc6U1xeWFpeW0OiywQ3IkihkkiN3pRRwoyYHGDuJVaPi79i/8AaV%2BLmr/Ef45fG34S/CjWvFnjWx8KaPp/gKy%2BI2s2Wm6fY6Hcaldw3qa7b6al5DqDXOqTOksVoPJSKNFZiWcgHsviH9vv9mzwv4a8OeI9XvvG3meK0v5NE8P2vwm8SXGuSRWUscV3NJpMWntf28MLzQq8s0CIpmiy37xM%2Bmaz8RPBHhv4e3XxX8T%2BJbbSvDljo76rf6vqrfZYbSySIzPPMZdvlKsYLNvxtAOcYNfGHin9hH9s/WPgX4X8Nay3hfxV470a58RHRfGV/wDHbxNpGr%2BCLW%2BuUktLO11q1sJLzXIYkjhEy3qw/aTbReYCFGPUfjR/wTotfj1%2Bzb4n%2BHHxD%2BOfjW78d%2BMPhfH4Z17xS3jbWho818tpDE2oJoS3y2FuzzQLK3kRRSEPIBIrSM5AOkg/4KUfsZf8K58V/FbWPite6Jo3giysr7xQ/ifwdq%2Bk3NlZXkxhtb37LeWsVxJaSyK6pcxxtC3luQ%2BEYjj/AI3f8FZP2d/hn8ENU%2BMfgPRfFXiqbQfiD4X8L674Y/4QXXbHU7A6zqVrax3T2cmnNdeV5Fw88DeT5d48aW8MhknjB8r1T/gmJ8ZPHfwq8faR4i8DeG9G8Y%2BI9D0fR7DxDqv7RfjPxut3aWusW%2BoTRyf27AfsEZ8likUSzHe%2BGkxknv8A9qH9gz40/GD4g/F/4g%2BBfEPheOTxfB8LbzwlZ6tfXMSvf%2BE/EdzrUsN40dvJ5ENwGt4VljEzrl2MfyKrgHqFh/wUE/Zb1H4m2XwZh8T%2BJo/Fd5oun6xLoF38N9egudO0%2B9adILu/SSyU6dDut5VeS68pYiFEhQum6j4a/wCCmH7FPi3wZ4s%2BIWkfGC4TR/Bfgi68Zaxe6h4S1W0Fx4et0Z5tWsVntUbVLNVQ4nsxPGxZArEugbB0P9kP4ofEP4mfG74g/G9fD2gxfGj4O%2BHfCF1Y%2BE9duNRl0u4tE11Ltlnns7XzYwNViMT7FZikm6OPA3fN37Y37Kn7UOj/ALDHxS%2BJv7TF34AtIfhD%2BxT8QfBHhePwFqF5cNrzXukWxn1G6W5toBYqE0i3CWcbXAVppCZ22oKAPrPw9/wUl/Yy8TaHrHiPT/i1dQWehppU1/JqnhLVbJmtNSu1s7HUIUuLVGubCWdgovoQ9qoDO0qorMPT9E%2BLvw88R/FLX/gvofiH7T4k8LaXp%2Boa/YR2k22zgvmuBa7pinlF3%2ByzHy1cyKoRmVVkjLfJOofsz%2BIPFegeKfjb/wAFIvF/wz8J%2BBbf9nu5%2BHUlx4f8QTLay6beyQyXmq3k17BbpYOTBbCG2QzCAmT/AEiQsuOw/wCCPngP4u2f7I9r8f8A9pDUDf8AxJ%2BL15H4n8V6g9nJbtJCLSCy01fKl%2BeH/iX2lpI0TYKSzTZAYtkA%2BqqKKKACiiigAooooAKKKKACiiigAooooAKKKKACiiigAooooAKKKKACiiigAooooAKKKKACiiigAooooAKKKKACiiigAooooAK8R0j/AIKMfse6ld69Z6n8Urzw83hzw5c%2BINQk8a%2BEdV0GObSbd0jnv7WTUrWBb63R5IlaW2MqAyxjOXXPtN7FczWcsNndCCZ4mWKYx7/LYjhtp64POO9fmJq//BHL9uX4v6t4X1z43fHHQ31vw14P1Cz1DxRqHxW8TeJx4h1v7ZpV9a6idLvoobLSbaS50xfPsLIBRHJtWWQKgUA%2B2X/b/wD2YbX4aN8WNY8QeKtK0ttcg0axs9c%2BGWv2GqanfzIZIYLLTbixS9v2kQM6/Z4ZAyo7AkIxHReA/wBqz4H/ABH1%2By8J%2BHPEOqQ6vf8AhSfxJDpGteFdS0y7TTYbv7JLLLDeW8UkDrP8hhkVZe%2BzbzXk3xO%2BDn7bvxib4e/G3XPBvwq0P4h/Cjx1NrHh/wAM2vjjUr/Rdcs7jSbvTLmO4vn0qGaxmKXskkbpa3AjMQU%2BYJGxV%2BJPwG/bg1/4y%2BHf2mvA%2BjfCu08WX3ww1XwX4x0LUvFepSWGkLcX8N1a39lcJpwk1AxCN1kt5YrQSlxiWLHIB3Gk/wDBRv8AZA8R694F8LeFfiNqus6n8SfBuleLfBunaJ4H1m9nvND1F9lrqMiQWjNa2%2B7HmSTiNbcMpm8oMCdj4a/tufs3fFf4jXPwn8M%2BL9Ws9ft9LudThsvE/gzVtEW/sbeRI57uyl1G1gjv4I3liDy2zSIvmISQGUnyj9hT9hL4sfsw6/8ADjWfHniDw1dnwd%2Byl4R%2BGN%2B%2BkXM8rNq2lvM1zNF5kEe61bemxmKu235o0wK8a%2BGn/BKv9sbxP8UfC/ib9qb4w2eqRaf4A8V%2BF/GniaD4v%2BJNavPEUur2KW39p2umX0Men6EcqWNpaKUXKgTOI1WgD6l8J/8ABRf9kfxrosfirQfHeuf2Hcarpen6f4lvfh/rdrpWoy6lex2VlJaX09mlteQS3M0UYuIJHhBlQs4VgT6X4W%2BLvw88a/EDxT8LvC/iH7XrnguSzj8T2iWkwWxkuoPtEEZlZBG7tCVkKIzMiyRlgokTd8w%2BOPAnxF8K/wDBPbxp8CP%2BChnif4VeCPAWg/DSLQLb4meHfFt2GadI0trXUntLqzgTTZlmFvJDBHcXTGcoiOTtDdr/AMEr/h98WPDf7ImlfFX9oqwS3%2BJ3xYvpfHXxEhW3aL7Pf36xmG02N8yfZbGOys9pyQLXBoA%2BjaKKKACiiigAooooAKKKKACiiigAooooAKKKKACiiigAooooAKKKKACiiigAooooAKKKKACiiigAooooAKKKKACiiigAooooAKKKKACvF/j14/8A2i/%2BGi/AvwI%2BAvjPwV4fTX/BXiXXtX1Pxf4Lu9aJOnXeh28MMMdvqVj5Yb%2B1JWZmZ8%2BWgAXkn2ivC/iJrK2f/BSr4Q6K6jF78E/iGyNnndHq3g04/JmP4Um0ty4QlUdo9m/u1Ze/4Qf/AIKF/wDR0HwZ/wDDD6t/81FH/CD/APBQv/o6D4M/%2BGH1b/5qK9mopkHjP/CD/wDBQv8A6Og%2BDP8A4YfVv/moo/4Qf/goX/0dB8Gf/DD6t/8ANRXs1FAHjP8Awg//AAUL/wCjoPgz/wCGH1b/AOaij/hB/wDgoX/0dB8Gf/DD6t/81FezUUAeM/8ACD/8FC/%2BjoPgz/4YfVv/AJqKP%2BEH/wCChf8A0dB8Gf8Aww%2Brf/NRXs1FAHjP/CD/APBQv/o6D4M/%2BGH1b/5qKP8AhB/%2BChf/AEdB8Gf/AAw%2Brf8AzUV7NRQB4z/wg/8AwUL/AOjoPgz/AOGH1b/5qKP%2BEH/4KF/9HQfBn/ww%2Brf/ADUV7NRQB4z/AMIP/wAFC/8Ao6D4M/8Ahh9W/wDmoo/4Qf8A4KF/9HQfBn/ww%2Brf/NRXs1FAHjP/AAg//BQv/o6D4M/%2BGH1b/wCaij/hB/8AgoX/ANHQfBn/AMMPq3/zUVa1/wCN/wCyJ8KbTSNJ%2BOnxh%2BHPhzXNQ0WDUDbeLvENhaXdxHJkeftuHV2RnSQBumUYZ4IGb/w1/wD8E4P%2Bjovgj/4W2j//AB2uaeMwdOTjOrFNdHKKf3OSZ7WH4b4kxdCNahga84SV1KNGtKLXdSjRlFrR6ptablj/AIQf/goX/wBHQfBn/wAMPq3/AM1FH/CD/wDBQv8A6Og%2BDP8A4YfVv/moqv8A8Nf/APBOD/o6L4I/%2BFto/wD8dr07QNF%2BFnivQrLxT4W0nw/qWmalaR3Wnajp8EE0F1BIoeOWORAVdGUhlZSQQQQcGrpYnD121TnGVu0k/wAmznx2TZzlcIzxuFq0lJ2TqU6lNN72TnTgm7a2Tbtra2p5z/wg/wDwUL/6Og%2BDP/hh9W/%2Baij/AIQf/goX/wBHQfBn/wAMPq3/AM1FeefD7/go1%2Bxf4v8AA9n4w8Q/D3xPoM%2BqeONa8LaJo1z8HtbnvNWvdOuL%2BORbSKHT2e6Jh0%2BedliVzCAY5Nkiso7L4hftUfsteBbLx7aXmiRafrHgLwhrXiG8tvFngTVtJs7uz0xf9Lnt7qTTnF7bxM0QklskuiomjYI%2B9FfY800f%2BEH/AOChf/R0HwZ/8MPq3/zUUf8ACD/8FC/%2BjoPgz/4YfVv/AJqKq2H7Vn7GGofGeT9n6G8t/wDhKLfxBHoN1H/wg1%2BLCHVX06PUo7FtQa0Fos72kqTJGZQzg4UFgVGz8a/ir8FfhJ%2Bzzrv7Q%2Bj%2BEdG8Uadpdg0mm2%2BhrbSDVbppRBBaxTAFA0lwyQ7idqsxLdDQBQ/4Qf8A4KF/9HQfBn/ww%2Brf/NRR/wAIP/wUL/6Og%2BDP/hh9W/8Amop/7OHxAtvi5eeMvA/xR%2BBXhvwr4w8B%2BIIdM1/StH1FdVsZFnsba9t7m2upLS2eWN4rlVO%2BCNllilXDKFd%2BQ8KfHD4h3Hj7xV8GPiL%2Byr8OdC8Y6P4Dt/FekQW3j83elyWktzPbiPULw6TG%2BnyBoHOUguI2VJCjv5bCgDrP%2BEH/AOChf/R0HwZ/8MPq3/zUUf8ACD/8FC/%2BjoPgz/4YfVv/AJqK8Gvf%2BCmnw4tPgfZ/FqT4Q/Ca3guvibdeDz4y1H4mxQeAiYNNN8b6PxF/ZjeZAzA2Sn7IM3qSwZ%2BTe2x4P/b68P8Aj34wfDL4U6d8BPhp4Zn%2BIXw30DxcbT4j/EJNG1XbqVzdRNZafZLpsx1K4hS1aTb5kG7zYwfLySAD2H/hB/8AgoX/ANHQfBn/AMMPq3/zUUf8IP8A8FC/%2BjoPgz/4YfVv/morlde/a1%2BEujftit%2BzFH8G9Ml0PTvBusav4k8fO0SwaffaethNLpy24hZpnW11C3nkk3qIxLEgEjNIIqH7NX7Sus/tZfCrXPiP8G/gf8F766hisJtA0BfiytxcwrcEu9vrf2TSZv7Hu44NreQn2sGQtGXUL5hAO5/4Qf8A4KF/9HQfBn/ww%2Brf/NRR/wAIP/wUL/6Og%2BDP/hh9W/8Amoryaz/a7%2BJt/wDsZ6/%2B2Iv7IvwptNM8K3nid9bh1H4mXUdrLpejTzwG/tLhNAd7hZ2tZ3jR4Ysx%2BUwZvMwut8S/2rdT%2BDN98Jbb4ofs2/DfTLr4mf2FZz%2BEP%2BFgq3ii31O9mghvIbDTDpirqkFgbhJZ5xPCVgjmlMS7ArgHof8Awg//AAUL/wCjoPgz/wCGH1b/AOaij/hB/wDgoX/0dB8Gf/DD6t/81Fed/FP9qjxZ8C/jdrHgL4pfsl%2BB5vDGj/DfxP46uNc8JeMJdQ1KHSNJMIi86wl0i3jS4ujOFjiW5kAMM%2BGcR5K%2BEP2p/E/i3w54/wDDdp%2By18OpPiT4K8H6F4rg8K6f8QludLvdJ1VroW8kmpLpYeCVVsL1njW2lGEhKO6zKwAPQ/8AhB/%2BChf/AEdB8Gf/AAw%2Brf8AzUUf8IP/AMFC/wDo6D4M/wDhh9W/%2BaivPfjB%2B17ovwy/Y18Fftlx/B74V2OkeJfCNprepaf47%2BIa6G0MtzYx3cOn2Mo02ddQu3zJGkZEBdkGPvEL1cXxpu/%2BGlPh/wDB7UP2XtH0/wANfELwZe6zp3iDUNSWPVLO6tY7WSWyn037IVTC3SAyfach1YeWR81AGv8A8IP/AMFC/wDo6D4M/wDhh9W/%2Baij/hB/%2BChf/R0HwZ/8MPq3/wA1Fcd4Y/aV/tr9qfxP%2ByfL8C/hnqPiHSPCuo63YxeEPHq6nNZiCW2S1ttbhbTYTo0t4l3HJCM3AZYbkgsIgz6Pwa%2BLPxH%2BOf7NH/C2/CX7Lfw5svF9n408ReHtb8L6145li0y2fR9b1DSLiaPUo9HkklVnsPNQNaR/LLgkFcsAdB/wg/8AwUL/AOjoPgz/AOGH1b/5qKoeB/HH7Vng79qzw58Efjd8R/h74m0bxN8PfEOuQzeFfh5faLdWl1pt9oluis9xq98ksbpqkpKhEYNEhDYyDJ%2BzH8To/wBpD9jvQf2l9X%2BDWj%2BDr/xN4fn1fTLDSdQ%2B3JHalpWsrqK6a2tnZZrcQXAzEhUTbSDtybfjj/lIX8L/APsjPjz/ANO3hCgD2aiiigAooooAKKKKACvnH4TeKv27/jro%2BveO/C/xv%2BEmgaXb/ELxVoel6Vf/AAf1S/uIrXS9ev8ATIWluE8RQLLI8dmrsyxRrucgKABX0dXjP7B//JENc/7LN8R//U11ugA/4Qf/AIKF/wDR0HwZ/wDDD6t/81FH/CD/APBQv/o6D4M/%2BGH1b/5qK9mooA8Z/wCEH/4KF/8AR0HwZ/8ADD6t/wDNRR/wg/8AwUL/AOjoPgz/AOGH1b/5qK9mooA8Z/4Qf/goX/0dB8Gf/DD6t/8ANRR/wg//AAUL/wCjoPgz/wCGH1b/AOaivZqKAPGf%2BEH/AOChf/R0HwZ/8MPq3/zUUf8ACD/8FC/%2BjoPgz/4YfVv/AJqK9mooA8Z/4Qf/AIKF/wDR0HwZ/wDDD6t/81FH/CD/APBQv/o6D4M/%2BGH1b/5qK9mooA8Z/wCEH/4KF/8AR0HwZ/8ADD6t/wDNRR/wg/8AwUL/AOjoPgz/AOGH1b/5qK9mooA8Z/4Qf/goX/0dB8Gf/DD6t/8ANRR/wg//AAUL/wCjoPgz/wCGH1b/AOaivZqKAPGf%2BEH/AOChf/R0HwZ/8MPq3/zUUf8ACD/8FC/%2BjoPgz/4YfVv/AJqK9mooA8Z/4Qf/AIKF/wDR0HwZ/wDDD6t/81FH/CD/APBQv/o6D4M/%2BGH1b/5qK9mooA8Z/wCEH/4KF/8AR0HwZ/8ADD6t/wDNRR/wg/8AwUL/AOjoPgz/AOGH1b/5qK9mooA8Z/4Qf/goX/0dB8Gf/DD6t/8ANRR/wg//AAUL/wCjoPgz/wCGH1b/AOaivZqKAPGf%2BEH/AOChf/R0HwZ/8MPq3/zUUf8ACD/8FC/%2BjoPgz/4YfVv/AJqK9mooA8Z/4Qf/AIKF/wDR0HwZ/wDDD6t/81FH/CD/APBQv/o6D4M/%2BGH1b/5qK9mooA8Z/wCEH/4KF/8AR0HwZ/8ADD6t/wDNRR/wg/8AwUL/AOjoPgz/AOGH1b/5qK9mooA8Z/4Qf/goX/0dB8Gf/DD6t/8ANRR/wg//AAUL/wCjoPgz/wCGH1b/AOaivUdc8deCPDCGTxL4x0rTlXq19qEUIH/fbCuN1b9sb9kTQZGi1z9qj4cWTL95bvxxYRkfUNMKxniMPS%2BOaXq0vzaPQwuUZvjlfDYapU/wU6k//SacjA/4Qf8A4KF/9HQfBn/ww%2Brf/NRR/wAIP/wUL/6Og%2BDP/hh9W/8Amoqr4l/4KXf8E/PCkJn1T9sb4eSqB003xNBet%2BVuzmuBv/8Agtn/AME4IrptP0D44X%2Bu3SnBt9D8GarcE/RvswU/ga5KmcZTSdp4iC/7fj%2BjZ9Hg/DnxBzCPNh8oxUl3%2Br1kvm5U4JfNo9I/4Qf/AIKF/wDR0HwZ/wDDD6t/81FH/CD/APBQv/o6D4M/%2BGH1b/5qK8x/4e9fDDW/k%2BGH7JP7QPjFj9xvD/wtmZD7lpZEwPfFA/4KJ/tPal%2B98Of8Eqfi9LE3MZ1O6srNyP8AaV2JX6Vl/bmVv4Z83%2BGM5flC34nb/wAQt46h/Hwqpf8AX2vhqT%2B6eKUvvij07/hB/wDgoX/0dB8Gf/DD6t/81FH/AAg//BQv/o6D4M/%2BGH1b/wCaivMv%2BG5/2%2BLv/kEf8EkPFr56fbPiRpdv/wChKcUh/a3/AOCpep/LpH/BJaGzU9JtT%2BOWk/qiR5o/trBvaM36Uqn/AMgH/ENOJV8dXCx/xY7BL/3Yb/A9O/4Qf/goX/0dB8Gf/DD6t/8ANRVv9lb4jfGnxhrHxQ8CfHTX/C%2Brap4B%2BIUWh2eq%2BE/DVzpNvdWsug6Pqas9vcXt4yyLJqMqFhLtKxodqnOfJv8Ahev/AAWBvubX9g/4dWGegvfigsuPr5aV0P8AwTr1b4za5rfx51X9oLwlo%2BheL5fjNB/a%2BlaBftdWkGPCPhsRbJWALZhEbH0ZmHaujDY%2BnipuMYTWl7yhKK%2B99fI8fO%2BE8ZkOFVeticNUu%2BXlo4mlWktG7uNO7UdNZXtdpdT6ToooruPlwooooAKKKKACiiigAooooAKKKKACiiigAooooAKKKKACiiigAorN8Z%2BMfCvw78H6t8QPHOv2ulaJoWmz6hrGqXsoSGztYY2klmkY8KiIrMT2ANcn8Kf2mfhB8a/Bmt%2BOPh3qetXNv4cneDXNNvvCOp2OqWcq28dyI3066t47wO8EsUsa%2BTmVZUMYcMMgHfV8w/H7V/7N/wCCsf7Nlnvx/aHwt%2BJlvj1xN4Wlx/5Dr1f4HftX/Bj9ojxP4k8FfDa58TR6v4RjsZPEOmeKPAGs6DPareCZrchNUtLcybxBKfk3bQAWxvXPgH7X2r/2Z/wWM/Y1ti2FvvC3xQtyf%2B3HRpAPzjFc2Ln7OjzecfxlFfqe3w9h/rWZez/6d1n/AOA0Ksv/AG0%2BxqKKK6TxAooooAKKKKACiiigAooooAKKKKACiiigDzPUv2ZP2bfjRo%2Bg%2BKfjF%2Bz34H8Wanb%2BH7W1g1HxL4Ts7%2BeOBVLrEsk8bMEDO7BQcAuxxkmqX/DA/wCwr/0ZZ8Jf/Dc6Z/8AGK5P4vf8FIP2L/2PpfDnw0/aL%2BMv/CO63feFLPU7Wy/4R3UbvfavviWTfa28iDLwyjaWDfLnGCCeQ/4fm/8ABLL/AKOi/wDLJ1z/AOQq8XEYvh2nXlGvOkpp683s7387q9/U0XiHiMqX1SOcTpKnpyLE1IKPWyiq8VHfZRW%2B2p63/wAMD/sK/wDRlnwl/wDDc6Z/8Yr07QNA0LwpoVl4W8LaLaabpmm2kdrp2nafbLDBawRqEjijjQBURVAVVUAAAADAr5W/4fm/8Esv%2Bjov/LJ1z/5Cr6e8A%2BOvCvxQ8CaL8S/AuqfbtE8RaRbano975DxfaLW4iWWKTZIqum5HU7WUMM4IB4rowOIyetOSwcqbaWvJy3t58qWl%2B4pcXVeJP3U8xlieTWzrzq8t9L2lVqWvtdJX2v0PCfhh%2Bwv4r8AePPCmtan8Z9N1DQfA/wAUPFXi/wANaXD4Qkguwuu/2s89pcXJvXSUxS6qxSVIYv3cIRkLMZB5HrX/AARhl17xT498SXnx28OxXHjLwF4/8L/21a/C9E1u5j8TSK4uNV1E3xfVHstojhQLbp5Y27UwGHu1h%2B358I9X06xm0nwp4jmvrrRfFupXeky/YLeXS08OXq2Gox3ck92kEDC7dIEZpfLYksXWNXdeE8G/8FPvA/x2m%2BHGo/ASCzlsdd%2BM%2Bo%2BBvG8F/fWOpS6ebfwbq/iFDbXOlX1xZyuxtLA70nmQJNNGwSVT5XpEHXSfsMB/EOq6%2BPihg6n8ddJ%2BI5iGif6v7FpGn6b9gz5/zb/sHmedgbfN2%2BW23c3efGv4Hah%2B0B%2BzzrvwS8f%2BMYre/wBasGjTxBoelmAWV0komtbqKCWWXLQypC%2B1nZXaM5wGwPnjxb/wVWlf4IeFPGvwi%2BFOv%2BI73VIPh7J4j8Uy%2BH4LfRtFbxJd6cqQXMA1JrmO4a1vfNVIDdRQNNB5szKSW%2BkPjD8ePD/wk%2BAXjz4%2B3Wjalc2PgLw/rGqX1lcafNaS3A06GWWVYxOillbyWCSqGjcEMjMpBIBzvwF/Z/8Aih8KdX8ReO/Gvxa0PxD4q8ceLYtW8aajZeD5rC0ktYNMisLeysbdr6ZrTZ9nglMkstyWZrgbVEqeTxn7OH7J37V3wL0fxvqXiT9p/wAA%2BKPGnjS9/tG78azfCK9t7iW9EgES3MZ12QS2cNuPs8NrCbcRqNwcu0jPtfstfGz4/eIfip4m%2BA37So8I3PiLRvBXh3xXa6l4L0q5srQWuqyalAbJo7m5uHeW3n0ubM4dFlSaMiKMhlrmvGX7RP7VHwy%2BPGv/AAjvrnwN40lk%2BF/iLxdo%2BleF/Cl/b3vh42k0MemQ37NfTi9F4ZJo0MaWrs9lN5aOquYgCvF%2BwP8AGHT9aT4vaT%2B0loC/Ed/iVeeML2%2Bu/h1LJ4bkluNCh0RoI9JXU1mi221vHIJvtrSec87MWSYxB2o/8E%2B/H8v7PvhL9kXSvj1ocPw40bSNJtfEEdz8P2l1y%2Bls70XbSWd6t%2Blvp6syosafZJjbgHy3zsKcTZ/8FHfiB4R/ZRl%2BIPxA8ceG9R%2BIt14o8PeHn8PN8HfEPh2Xwze6q0SqLzSby6n1C9CgzyRCDy/thiEMRDN5i69/%2B2Z%2B0P4y0Pwz4N/Z9%2BIPw38R%2BKZfBfi3xP4j8Qav8P8AVtMsm/sa%2BtbMaONLm1AXem3by3gjlkuJZTAbWRjbv5iogB1N9/wS2%2BAH/DR%2BmfH7Qdd8X2VtFa%2BLRr3hSXx/r1zp%2BpXWvzQS3UyW8uoG3tULpcM8EcHlSPOjEKYIiI/gR%2BwR8RvgdoOrppv7QulnXLX4QWXw7%2BHusaT4BFjHothZLcfY7u8gF441G6SSZXYo1rEQjCOKHzWNea/8PXdcuPix4bubq98I6H4Z8SeJPA2laF4B1bTbl/E2v2XiW200x65a3C3KwpZ215qYtZFNtIC9hcAzRvJElbP7OH/BQ74nfGb47xfAvWPEXgBfEPifw/4putN8J6fo14NR8BX%2BlXsFvBZa4Wu289p47jzcrHZn/R38tZUkEqAHsHin9ivwpqn7Kvgj9jvwr4lfSfB/hObw3BfQPZefJq2l6TcW0xsXbeu0XP2VI5ZDvLJJKNpL7hN%2B0b%2Bzr8X/ANoXV7Hwrc/GnQNJ%2BH0WuaNq19o0PgeWXW3uNPv4b5BBqZv1it1eW3iBP2N5FUybHVirJyXwl%2BP37SfxE/Yw1L4ra94s8J6d408O%2BPfFmg6zqmifCnWdcsbqDRfEup6QJLbRbPUDfPJLHZRvsS4lKs7kBgAB5p41/wCCmnxntf2PvBfxP8A%2BB/DN54/1sf2l4it7y3uBp%2Bl6FBrA06S%2BlthMJrae5Zo44rKWXzoJZJ1k8w2NwhAPpPw3%2Bz9daD8cfiR8e7vxlFfax420fStG0aO40n91ommWEM5itiPN/wBI3Xl5fXLsPK3LOkZH7oSN5b8I/wDgn94i%2BCvhD4k6l8PPF3wy0Dx38Q9IsdJOoeFvg%2B2l%2BHNNsrV7pkVdHg1MSyzM1/fO8zXoZnmjz8kKxmvpf7deoeK/23Ne%2BAVr8QPDfhzw94T8ZWvhS4s9W8A6teXGvanLpNvqOyLWIp4tP0yQi7SOK1nSaec28rKArxmuO/ZH/b2/aV/aY8Xa34I1EeFNGvZvh/ea/przfDbWETRLqHUFtRbRGW9VfFtvtZi17pjQwB0jXIN1EAAej6J%2Byh%2B1X4d/ZG8Kfsq6Z%2B0x8PGj0bwZJ4W1/WL34N3U6anp620VrbtFbNre23nSFH3tI1xFK0gPlIq7DY1H9j74z6X8bPg742%2BHP7QHh608J/CXww2hJoXiTwJdanqur280drDdSPqSarAiTPFaRBHNq4SRndxKCEXx6P8A4Kc/FmH4cafo%2BojR4fFWufGO/wDBejeIn%2BE3iAF7S00YarNeSeFFnbV47jO62WyeVZHTbe7hbsoO38SP%2BCgXxi0nw3q3xD%2BEnif4e%2BKPC/wy%2BDmh/EL4hawnh2%2Bj/wCEotL651KOSHSk%2B250x44NIvJcXH2s75YYWAKyPQB6/p/7OHx11T4%2BW3x8%2BJHx38Mahe%2BG/DWtaR4HstE%2BHs9gluuoS2shk1F31OZr/wAv7HBiOL7IjHexAJjMfK/Dv9ib4%2B6B%2ByB8Sv2WfG/7T/h%2B5uvH2q%2BKLy08WeFPh1caXLpH/CQapfajfhYptVuvNdJNQnSBw8flqsZYSspLcv4M/wCCiPi%2B6/bP0r9n3xtrXgyBPEnxO17wbZfD210y6TxLosVhp9/fWut3k7XLRyWd7FpzNEi20QxewbZpDHKK%2Bv6AOe1Xw7ofhD4UXPhLwxpkNjpul%2BHntNPsrddsdvBHAUjjUdlVVAA9BXnXjj/lIX8L/wDsjPjz/wBO3hCvUvHP/Ik6x/2Crj/0W1eW%2BOP%2BUhfwv/7Iz48/9O3hCgD2aiiigAoorN8YeMvCHw88L3/jjx/4r03Q9F0u2a41PWNYvo7a1s4VGWkllkISNAOrMQBQBpUVzmmfGH4R618Mh8a9H%2BKXhy78GnT3vx4tttct5NMNogJe4%2B1K5i8pQrZfdtG05PFc9q37Xv7Jug/DTTvjRrn7UHw7svB2sXbWuk%2BLLvxrYR6Zezrv3RQ3TSiKRx5cmVViR5bcfKcAHoleM/sH/wDJENc/7LN8R/8A1Ndbr2DTdS07WdOt9Y0e/gu7S7gSa1uraUSRzRsAyujKSGUgggjgg5rx/wDYP/5Ihrn/AGWb4j/%2BprrdAHs1FFFABRRRQAUUUUAFFFFABRRRQAUUUUAFFMuLm3s4Wubu4SKNBlpJHCqPqTXNeIPjh8FvCVtJe%2BKvi/4X0yGFcyy6h4gtoVQepLuAKidSnTV5NL1aX5tESqU4fE0vVpfmzqKK%2BaPiz/wWD/4Jw/B6V7TXv2otD1W5VNyW/hRJdXDn%2B6JLRJIgf95xXzh8Rf8Ag5Q%2BAUN4dF%2BAn7OfjPxdfO2yAanNDp8crdioj%2B0SMPYoD7V5GK4jyLBu1XERv2T5n90eY3wSwuOqcscVQh51MRh6S%2B%2BpWj%2BCb8rn6TUV%2BWK/8FFf%2BC3n7QNw8/wP/YjbwzpWN1rdz%2BD7hmmB/wCm%2BozQROOnKxjnNRy3X/By78SZl0Maba%2BG7G7OyfUD/wAI5amBT3yrzTL9UUsO1cP%2BtWHn/Bw1aa6NU2k/vt9566wPDcF%2B9znD37U4Yyv8lKlg1CT9J2vpzdT9SdY1nR/D2mzazr%2BrW1jZ26b7i7vJ1iiiX1ZmICj3Jr55%2BJf/AAVv/wCCefwt1j/hHdU/aT0rV9RyVWz8JWlxrBLDqu%2BzjkQH2LCvk3RP%2BCCn7Rvx0uYvFX7dH7eesa9qKtvXTtOM%2BpxxMfSa%2BYKABxtWACvZvht/wQt%2BAfw3059L079pn41Jazf8fGm6T4yh0yzkP/XG0t0HP1NKWP4oxOtDCRprvOacv/AVovvZdDH8F4S7lhMZjH097DYKD8/3n1uvbsuSL7pHTj/gsH8FNV%2BfwF%2BzR8evFUR%2B7P4e%2BFdxIjfTzHQ/pQf%2BCpPjHWB5Hgv/AIJk/tLXM7f6saz8P49Oib6yPOwA/CkH/BEL/gnXqB87xp8Ldf8AElx/z9654%2B1aST65juUH6UH/AIIbf8ExI/nsf2drq1k/hmg8ca0GX6ZvDU%2By4wlvOmvTl/WLN/8AWnIaf8LhiD/6%2BZnim/mqeEhF/JoD%2B1x/wU68bfuvh1/wS7j0WJ/9Xqnjb4p2MSr/AL1tCnm/kaT/AIRv/gtZ8QDnVviT8Bvh9bP9waHo%2Bo6rdxj/AGvtJETH6cUv/Dln9jOy/wCRZ1L4jaJj7v8AZXxH1BNv03yNSN/wSQ8LaL/pPw3/AG4P2ivDV0nMT2XxPeWL6PHJEQ6%2B2RR9Vzx/xueX%2BGtCH5Uo/n8w/wCIjZhhP9y4ZwFPzbniJffiqjjf/ty3kKP2Gf2%2BPEv%2Bk/EX/grJ4raZusXhf4fabpkSD%2B6NhYnH9480v/DsX4n6t8vi7/gqB%2B0RMp%2B8NH8Ww6eT9CkLYpo/Yz/4KSeC/k%2BGX/BVi/vLVPuWHjT4X6dfu3puuQ4k/Sj/AIRT/gtt4T/5A/xW/Z68WovX%2B39D1Wwkce32UlQf0o%2BrYZfxsJWf/b8p/lWX5IP%2BIzcdUtsN7H/r1g8BZenJRbHf8Of/AIO6hz4x/aj%2BP3iIn751v4rXD7vrsRKP%2BHJf/BP6%2B/5GnwJ4o10n7x1b4gaq5b67Lhaafj5/wV/8D/vfFn7BXw/8aRp/rP8AhCviatgxHcqL5Dn6dTQP%2BCif7VI/4lL/APBKP4sjV1%2B/CuoWRsx9Lvdtb/vmj2fDa/iYZp/3qVR/nzp/eH/EdeOoaPM8VRfaMJ0vu9jQivuZr6H/AMEY/wDgmV4ecPYfsp6XIR0%2B3a1qN0PymuWFdnpP/BNr9gHRY1js/wBjf4cOF6G78J2twfxMqMTXmp/bn/4KBaSf7V8Vf8EjPFMWkn7s2kfE3S7%2B8x3zaooYfTNC/wDBW7wzpA%2Bz/EH9hn9o7w9cpxMt58LnkiHuskcpDr74raFThij/AMuYw9aLj%2BdJnnYrxk4oxj/2zOsZ/wBv1cXH82j3Lw3%2ByJ%2Byd4NmFz4Q/Zg%2BHmlSDpJpvgqwgYfikQrvtP03TtJtVsdLsIbaFPuQ28QRV%2BgAwK%2BUP%2BH0X7H1l/yM3h/4maJj739q/DbUE2/XYjUf8PxP%2BCaafLd/HTUoJB96KbwLrIZfri0NddPNuH6KtCtTj84x/SJ87jON8DmMubGZl7R/9PKspP8A8qSbPrWivk61/wCC4X/BMG4mEE37SrWzn7ouvBusRg/ibTFbEX/BY/8A4JnzRiRP2sdEAPQPp18p/IwZrdZ3k0tsTT/8Dj/mckeIuH5bYul/4Mj/AJn0zRXzR/w%2BK/4Jo/8AR2Whf%2BAF7/8AGKqal/wWk/4Ji6Su%2B6/as01x/wBO2g6lMfyjtmpvOcnSu8TT/wDA4/5jfEOQJXeLpf8AgyH/AMkfUVeM/sv/APJb/wBo7/ss1j/6hXhevMP%2BH5H/AATIbmP9oS8dT0ZfA2tYPv8A8eldF/wTr%2BOXwy/aS1v48/Gn4OeIH1Tw3rXxmg/s6/ksZrZpfJ8I%2BG4JMxzoki4kidfmUZxkZBBOuGzLLsZPkoVoze9oyTdu%2BhvhM3yrH1HTw1eE5JXtGSbt306H0nRRRXaeiFFFFABRRRQAUUUUAFFFFABRRRQAUUUUAFFFFABRRRQAUUUUAeYftqfCHxV8fP2TPiH8HfAr2o1vxB4UvLXR476UpbzXRjJiilYAlYncKjtg4VmODjB4/wDZf0f4yXHx1%2BIfxy%2BJfwD17wZD8QJtMtrDRtT1bSrmfToNNsQn2i8NleTRh7ia4nSNYWmxHao0hiLhB7/RQB45%2Bxx8KfHvgrSvHfxP%2BMGg/wBm%2BMPiR8RtT17VbFrqKdrOyjKafpVsZImZCU0yysi4ViolkmI5JJ%2BWf25/D/iPwJ/wWV/Y%2B8Z6v8W/EGuWmsXXjeHT9D1W205LXRFkg0iJo7Vra0hndX8wbvtEs7fIu0r8279Ca/Pb/grXqf8AYv8AwUr/AGHNT3Yz411q2z/12vfD8WP/AB6vNzeXJl8pdnH/ANLpn2nh7Q%2Bs8XUKP80a6%2B/C4v8AyP0Jooor0j4sKKKKACiiigAooooAKKKKACiiigAooooAyvA3/Ik6P/2C7f8A9FrWrWUPBmhplYGvoUySIrfVrmNF9lVZAqj2AApf%2BEP0n/n71X/weXf/AMdoA1KKy/8AhD9J/wCfvVf/AAeXf/x2j/hD9J/5%2B9V/8Hl3/wDHaAPD/EH/AATT/Z88S%2BI/jN4l1DV/Ewl%2BNunW1nrlumow%2BTogiUlpNNQwkQNNORczCXzUlmVSylfkL/BX/BO74c%2BFvF0fxC8QfGLx94p8QH4nSeO7zWPEF7p/mXept4Vn8L%2BWyWtlDEluLCcsscSR4mRGzs3Rt7b/AMIfpP8Az96r/wCDy7/%2BO0f8IfpP/P3qv/g8u/8A47QB85f8OpPgxZ%2BF9A8A%2BHPjP8SNI8O6RY%2BEIdU0HTtT08QeIJvDTWp0y7vGexaUTbbK2SX7O8EcqRKGT5Vx9A6x8OtI8W%2BB9d%2BHXxCvrnxHpPiKG%2BttStdUjhUNZXQdXsx5EcYMSxuY1LZkKgb3dssbn/CH6T/z96r/AODy7/8AjtH/AAh%2Bk/8AP3qv/g8u/wD47QB5n8Dv2PdL%2BBcmpazp3xz8d%2BINf1SHRbG68UeJp9NnvjpGlSSvaaSPLso4vsw%2B0XYZzGbljeTOZ/MKyLnfCX9ia4%2BD3jvx/wCP9B/ar%2BJd9dfEXUL2/wBZj1aDw/Kbe6mXy4JIZ10lbjbaRBIraGWWSGNEAaN%2Bc%2Bu/8IfpP/P3qv8A4PLv/wCO0f8ACH6T/wA/eq/%2BDy7/APjtAHjT/sB%2BCtW0rxHd%2BOfjV478R%2BLvEeoaJen4h6pJpceq6bLo87XOmfZY7awiso1gmknfa1syy/aJllEquVrL1n/gmn8NNS8NWthpvxv%2BI2k%2BID/wkCa/440vUNOTVtfg1uWGXVLe5L2LW8aTPbWpU20MDwfZo/IaLBz7z/wh%2Bk/8/eq/%2BDy7/wDjtH/CH6T/AM/eq/8Ag8u//jtAHnOs/sh%2BFde8XeF7zUPiT4p/4Q7wbPp1z4e%2BF0X9nx6Fb3VggFncEraC9kMLLHKkb3TQiWKN/L3IpE2h/stpYfFTUvjP4l%2BOvjbxF4gfSNR0vwrdayNKCeE7O9mimnjsI7exiRyWt7XEl2LmTbbIpYgyB/QP%2BEP0n/n71X/weXf/AMdo/wCEP0n/AJ%2B9V/8AB5d//HaAPGvhL%2BxD4k%2BC3wo1L4V%2BC/22fi0DqPjLUfEo8QXNn4Xe%2BtrrUL67v7%2BNFGiC3aGe6vZ5iskLsh2rE0aqFrE8d/8ABJb9h34p/BeH4P8AxR%2BDekeJrqJ7iVvHPiLQdOvvEDz3OqTatdy/a57ZthuL25upZEjRY83MoREBAH0B/wAIfpP/AD96r/4PLv8A%2BO0f8IfpP/P3qv8A4PLv/wCO0AeS6h%2Bwb8KLv4sJ8RdO8V%2BI9M0ZvFGm%2BJb74e6W9lDod7rWn2kFpZXzr9lNyjRRWlmBFFcJATaRM0TEMWyPhb/wTs8IfBy2sofA37QnxJgk8NeCZPCHw4uJ7nSZW8E6LJcWcz2dgG08rMp/s%2BxjL3y3b%2BXaRru%2B9u9x/wCEP0n/AJ%2B9V/8AB5d//HaP%2BEP0n/n71X/weXf/AMdoA8Yi/YA8GwaU2owfG/x6vjl/HjeMH%2BKJk0ptaOqNpS6OW8prA6eIjpqra%2BSLTy9qh9vnDzayr7/gmB8CptH0nwzo/jvxtpekw%2BG7TQPGGmWWp2rx%2BNtOtr6e/SDVWmtpJGBubu%2BkZrZ7ZmF9cITscIPfP%2BEP0n/n71X/AMHl3/8AHaP%2BEP0n/n71X/weXf8A8doA4dv2aLPVfjrYfHLxz8XfF3iT%2BwLu5u/B/hTVjp6aV4dup7Z7WW4thbWcVxLKbeW4iDXM0%2BxLmYJt316ZWX/wh%2Bk/8/eq/wDg8u//AI7R/wAIfpP/AD96r/4PLv8A%2BO0AJ45/5EnWP%2BwXcf8Aotq8u8cf8pC/hf8A9kZ8ef8Ap28IV6ifBmhvhZ2vpkyCYrjVrmRG9mVpCrD2IIry7xx/ykL%2BF/8A2Rnx5/6dvCFAHs1FFFABXiH7f3hvxFrvwT0bVtE8Kalr9p4b%2BJfhXX/EGh6Pp0l5dXmm2OtWlzcGK2iVpLl4Vj%2B0iFFaST7PtRXcqp9vooA%2BLvDXw9tPiT%2Byf8W/D3i/QvHXhHTvE/xLv/HnhO2/4Vlql1d2drFrMF3ayvpot/Mma4vbN7yTTsLcvDdkPHG0hxnfBi7%2BK/gv4N/F7x78Y/H/AMVvD9x8WvizJqvhHxL8OPgPfNqllaxaJpFk0o0K4sdUl0yKafT7oqt7EzsjiRmSWYY%2B4qKAPEv2PfAfxX8E/wDBP/4a/DXTdB0zwH4t0f4caVp8Ona3ps%2Bo2%2BkTQ2scYSaBbuOSQhVw0f2nKsSPMbbkwf8ABOm38S2n7N19a%2BMtWsb/AFeP4t/ENdTvtM057S2uJx4z1rzJIoHmmaFC2SEaWQqCAXbGT7pXjP7B/wDyRDXP%2ByzfEf8A9TXW6APZqKKKACiiigAoorx39rb9t34NfsgaNYxeMpL3W/FWuyCDwp4D8OQfadW1qcnaqwwryE3cGRsKOgyxCnGviKOFpOrVkoxXV/19yV23okzDE4rD4Og61eSjFbt/1q3skk23ok2exVl%2BM/G/gz4c%2BGrvxn8QfFumaFo9jHvvdV1i%2Bjtre3XOMvJIQqjJA5Pevlx/2xv%2BCmXiqMr4A/4JRXFijr%2B7v/FfxZ022CHtugVPMP0BrDH7Ed542I/ah/4K%2B/HfRvEMWiH7bZ%2BBUu/sPg3w16b0kYfbJBkLvmOGyUIkG015s81lVVsLTk3/ADTUqcIru3JJv0im/Nbnm08zxWY1Y4fLMNOrUk0lzQnCN3ot488m3tGnCUpPRWO68af8FiP%2BCb3gi4%2BwXX7T2lapdFtsVt4c0681NpW9Fa1hdT%2BeKw/%2BHz/7JN4ceGfB/wAUtbz93%2Byvhrfvu%2Bm9VrntA/4KB/CO/vJvAv8AwS%2B/Yq1D4k3cTmCTWvDnh%2BLw/wCHLVhwVkv5Y0UkddoTDAHa3etlvgH/AMFVf2ilLfHP9rHw18ItEn/1vh34RaO1zqDRn%2BF9RuzuhkH9%2BHIz0Hp5f9pZpXdsNUVR/wDTuk3H/wAGVJxj93MfoEfDHjXBxVTiHMcLlqevLVjKVa3lh4TqV/T2kaN/JanK/FX/AIL6/swfCGJI/F37Pvxosbm5iZrCLV/BcNgtwR0w1xcoduepCnHoeleA%2BIf%2BCmf/AAVX/bcuTYfsk/s0eJvBvhu4H%2Biajofhz7Zc3HOAkupX6x2luGGCGjjZlyeWxX3X%2Bz7/AME0/wBkP9nXWP8AhNNB%2BHJ8R%2BLZJPNuvG3je6OratPN/wA9fOnyInPcxKma96qv7L4hx0bYvF%2Bzj/LTik/nP/5FJepzzwfBWX4i0p4jMYpfbccDSk%2B/Jh3VxModoyxFJtbtX0/KPw1/wQ//AGz/ANqPUI/FH7c37Vmp2VqZvOi0efX5/EOoRgj/AFTSSNHaQ4OSDEjgdK%2BgfhV/wb9f8E6fh4iS%2BKvCHiLxpcLgmXxJ4iljXd6iOyECkezBh65r7borow3CuR4eXNKl7SX8025t/e7fgcePx%2BDxcPZ0MBhcPT6RpYekn86tSNevN%2Bc67fkr2POfhz%2Bx/wDspfCFIx8Mf2bvA%2BhyRRCMXWneF7WOdlH96UJvc%2B7MSa9Bs7Cx06LyNPsoYE/uQxhR%2BQqWivepUaNGPLTiorySX5JHkwp06atCKXokvySCiiitCwooooAKKKKACiiigAooooAKKKKACiiigAooooAjurO0vojBe2scyHqkqBh%2BRrIk%2BGfw3mcyzfD/AER2Y8s2kwkn/wAdrboqXCEt1cmUIT%2BJJ/Jf5GF/wq74Z/8ARO9C/wDBRD/8TVrTfBfg7Rn8zSPCemWjZzutrCOM/wDjoFadFJU6aeiX3L/IlUqSd1Ffcv8AIK8Z/Zf/AOS3/tHf9lmsf/UK8L17NXjP7L//ACW/9o7/ALLNY/8AqFeF6s0PZqKKKACiiigAooooAKKKKACiiigAooooAKKKKACiiigAooooAKKKKACiiigAr85f%2BC2P%2Bg/tgfsm%2BK%2Bn9g%2BJdQv9393brnhZM/8Aj9fo1X5y/wDBeL/QfFfw18V9P7B8J61f7v7u3xR4KTP/AI/Xk57/AMieu%2B0b/c4v9D9A8KtfEfK4fz1VD/wZCtT/APch%2BjVFFFesfn4UUUUAFFFFABRRRQAUUUUAFFFFABRRRQAUUUUAFFFFABRRRQAUUUUAFFFFABRRRQAUUUUAFFFFABRRRQAUUUUAFFFFABXjPjj/AJSF/C//ALIz48/9O3hCvZq8Z8cf8pC/hf8A9kZ8ef8Ap28IUAezUUUUAFFFFABRRRQAV4z%2Bwf8A8kQ1z/ss3xH/APU11uvZq8Z/YP8A%2BSIa5/2Wb4j/APqa63QB7NRRRQAUUV8lftW/tV/Ff4yfFi4/YL/YO1KP/hMzEP8AhYnxEC%2BZZeBbF%2BG%2BYcPfOMhIwcqfQgtHyYzGUsFS553bbtGK3k3sku/4JXbaSOLH4%2Bjl9Hnndtu0YrWUpPaMV1b%2B5K8m0k2a37Vn7dHi2w%2BI/wDwx9%2BxJ4YtfGvxhvYs38krE6V4OtzgG81KVchWAIKwfeJIyMsiSb37JH7BHgv9nLWb342/E/xddfEL4t65EW8S/EfxCoMwBHzQWiHK2dsB8oRMEqACdoVV6D9n79nP9nb/AIJ%2B/A%2B%2Bs/D91Bpmn2sT6l4x8ZeILtftWpTAFpb29uH%2B8SSxwSFXJCgZr57vNb%2BM/wDwV61eXRPBt1rPgL9mi2uTFqGuKr2ur/ETa2GigBAa3sCQQzkbnGQckskXjVHOnWhVxS9piH/Dpp%2B7Dzu9NPtVZLygtk/e4Q4DxnElSecZzVjQw1BpzqyTlSo3TtClHR18TNXUYx956u9GjGVR%2BjfGL/gqT8I9E8YT/Bj9lnwfq3xs%2BIaAqfD3gQCWzsmzgNeahzBboDkMQXKkYYL1rnvAn/BP/wCKv7THi2x%2BOP8AwU78ZWnie6tJhc%2BHvhDobsvhrQW/h85c5v5wDgs5KcsuZF24%2Blvg98DvhB%2Bz94Ng%2BH3wV%2BHOk%2BGdHgwVstJs1iDtjG%2BRh80rnu7kse5NdVXYstrYuSnj5qaWqglamvVPWbX97TqoH2tTjTLsgpSw/CeHlh3JNSxNSSnipJqzUJRSp4aMle6oL2jT5ZV7XTr6Ro%2Bk%2BH9Mg0TQdLtrKztYxHbWlpAscUKDoqooAUD0AqxRRXrpJKyPzuUpTk5Sd2929W/mFFFFMkKKKKACiiigAooooAKKKKACiiigAooooAKKKKACiiigAooooAKKKKACiiigAooooAK8Z/Zf/wCS3/tHf9lmsf8A1CvC9ezV4z%2By/wD8lv8A2jv%2ByzWP/qFeF6APZqKKKACiiigAooooAKKKKACiiigAooooAKKKKACiiigAooooAKKKKAOO/aD%2BM2hfs7/A7xZ8c/EmmXV9Z%2BFNAudSk0%2Bx2%2BfeNFGWS3i3EL5kjBY13EDc4yQMmuH%2BF/7Wmp3Gi/EqP9pDwBp3gfXPhTbR3/iu00XxFJrNidMksftsd5Bcta20kg2pPGyNAjLJbSAb1KO3cftCfBnQ/wBon4G%2BLPgZ4k1S6sLPxXoFzpsmoWO3z7NpYyqXEe4FfMjYrIu4EbkGQRkV5t4E/Y%2B8byW/xBk/aA%2BLWieL7v4rWD6b47k0fwdNpMUmnpp62Vta2cbX9wbYKrXUsjSNOZJLptvlKqoADU/Yy/ao1b9q/wAJaj43udH8CWNpA9uLay8I/EuPxDe2TSIZGtdUjitYo7C8jUxh4EluFDMwEhChm%2BWP%2BC82lNq/g8wxg74fgf4puEI6qYvFfgSTP5Ka%2BmP2S/2PvE/7PPivUPG/jr4p6T4k1GXwNoHg7S00Dwd/Yltb6RpDXjWpmi%2B1XHn3TG%2Bl3yq0cQVUWOGIbt3zb/wVi%2BBnwo0HxH4r8YeCfhd4e0jXfEn7NfxAvPEus6VosFvd6s9tq3hCVHuZo0DzlPnwXLEbjjqa83OYe0yjER705/8ApLPtPDbEfVPETJq38uKw7/8AK1NfqfffhzVF1zw9Ya2hBF5ZxTjHo6Bv61cri/2b9X/4SD9njwFr2/d9u8F6XcbvXfaRNn9a7Su6lP2lKM%2B6T%2B9J/qfLZhh/qmYVqH8k5x/8BnKP/toUUUVocgUUUUAFFFFABRRRQAUUUUAFFFFABRRRQAUUUUAFFFFABRRRQAUUUUAFFFFABRRRQAUUUUAFFFFABRRRQAUUUUAFeM%2BOP%2BUhfwv/AOyM%2BPP/AE7eEK9mrxnxx/ykL%2BF//ZGfHn/p28IUAezUUUUAFZvjDxl4Q%2BHnhe/8ceP/ABXpuh6Lpds1xqesaxfR21rZwqMtJLLIQkaAdWYgCtKvEP2/vDfiLXfgno2raJ4U1LX7Tw38S/Cuv%2BIND0fTpLy6vNNsdatLm4MVtErSXLwrH9pEKK0kn2faiu5VSAemaZ8YfhHrXwyHxr0f4peHLvwadPe/Hi221y3k0w2iAl7j7UrmLylCtl920bTk8Vzurftf/sl6D8NtN%2BMuuftRfDqy8H6xdNbaR4ru/G1hHpt9OpYNFDdNKIpXBRwVViRsbjg185%2BGvh7afEn9k/4t%2BHvF%2BheOvCOneJ/iXf8Ajzwnbf8ACstUuruztYtZgu7WV9NFv5kzXF7ZveSadhbl4bsh442kOOR8HfFD9pH9nz4PfEr4u6p8MfFPizxT8ZPjW8ngTULf4Ha3Hb6BZNoGl2E%2Br3uiW8d1f2FoJdOupFtpT59yzwh2jNy8kQB99WF/Y6rYw6ppd7Fc21zEstvcW8geOWNgCrqw4ZSCCCOCDXj37B//ACRDXP8Ass3xH/8AU11utP4B/DQfDT9jrwV8IP2efEs9hH4e8DabpPhbVfHnhS7MqR29tHFHJeac72U6uVTLQloGUnGFA21z3/BOm38S2n7N19a%2BMtWsb/V4/i38Q11O%2B0zTntLa4nHjPWvMkigeaZoULZIRpZCoIBdsZIB7pRRXzd%2B31%2B1l43%2BGA0T9mH9mSzi1X40fEjdbeFrNsNHolpyJtXuuCEhiUMV3AhmU8MEZa5sXiqWDoOrU2XRbtvRJLq29Ev8AgtcmOxtDL8NKvV2XRatt6KMV1lJ2SXfyTawf2w/2qvil4/8AiiP2B/2Hb6KT4jalbCTxp4y277TwHpj43XEhHBu2U/uos5BIY4ytelfBL4J/s6/8E5f2bryzs9Vi0vQtGtpdU8X%2BLdZl3XOpXGMzXt1J96SRzwFGeqog6Cp/2Pf2Sfhz%2Bxd8Im8JaJqD6jrF/I2peN/GWqPm71zUGBaa6nkYk7cltqkkIp6klmb54/4mH/BXr45f8to/2Z/h3rfuq/EXWoG/8e0%2BBh9JG9Sf3PiylXw81XqxUsTUuoQvpBddey0dSe8naMdOVP3%2BA%2BDZZ7i6uc53U9lh6EVKtNWfsoSfu0KKdlPEVmuWP80uacuWhRk2vhbwL8Tv%2BCt/iyy%2BKvxt0XUvCv7Oml3i3Xg/wFclobzxxIjZj1DUADlLTIDRw5%2Bbg8jDt9u6Zpmm6Lptvo2jafBaWdpAkNra20QjjhjUBVRFUAKoAAAHAAqS3t7ezt47S0gSKKJAkUUahVRQMAADgADtT69XBYGOETnJ81SXxSe78l2ivsxWiXdtt%2BtxPxTW4gnTw9GmqGDoXVGhFtxpp7yk3Z1K07J1a0venLRckIwpxKKKK7j5UKKKKACiiigAooooAKKKKACiiigAooooAKKKKACiiigAooooAKKKKACiiigAooooAKKKKACiiigArxn9l/8A5Lf%2B0d/2Wax/9QrwvXs1eM/sv/8AJb/2jv8Ass1j/wCoV4XoA9mooooAKKKKACiiigAooooAKKKKACiiigAooooAKKKKACiiigAooooAKKKKACvkH/gpVpH9veLNR0kLlp/2Svi0Ix/tibwsV/UCvr6vmr9rvSP%2BEg/aP0bQdm77d%2BzV8T7fb677zwouP1rnxcPaYSpDvGS%2B%2BMkexw7iPqnEOCr/AMlajL/wGrSl%2Bh3P7AWr/wBu/sMfBzUy%2B5n%2BGGhLI3q62EKt%2BoNeuV89/wDBKLV/7b/4Jz/CK937tnhCK3z/ANcneLH/AI5X0JWOWT9pltCXeEP/AEmJ6HHGH%2Bqca5pQ/lxOIX/let/mFFFFdx8uFFFFABRRRQAUUUUAFFFFABRRRQAUUUUAFFFFABRRRQAUUUUAFFFFABRRRQAUUUUAFFFFABRRRQAUUUUAFFFFABXjPjj/AJSF/C//ALIz48/9O3hCvZq8Z8cf8pC/hf8A9kZ8ef8Ap28IUAezUUUUAFFFFABRRRQAV4z%2Bwf8A8kQ1z/ss3xH/APU11uvZq8Z/YP8A%2BSIa5/2Wb4j/APqa63QB2v7Qfxo8L/s6/BDxV8cvGTj%2BzvC%2BiT380e/aZ2RCUhU/3pH2xr/tOK8M/wCCan7O/ifTPC13%2B2p%2B0LMdS%2BLfxcs4dS1m6ni2jRdNkCva6VbqSTFEkflll6lgA2fLBrB/4KLu37TH7QPwk/4J1aWxl0/xDqo8YfE6NDkL4f06TdHBIP7lxcgID2eJfWvcP2zP2lNA/ZB/Zp8TfHDUrVJ59JsfK0LS8HN/qEpEdrbKq8kNKy528hAzfw14VSrSq4%2BpiKz/AHWHXy57XlL1jG0V2cnbVnn5PleM4r4tp4PCw9pKMo0qcf5q9Rq77XhGUY3fw803pZteI/t6fEXxn%2B018WNO/wCCY3wA16azvPEFmt/8YvE9kcnw94cJG63B6C4ugQiqf4HGRtkLL9S/DX4ceCvhB4A0j4YfDnQINL0PQrCOz0uwt1wsUSDAHqSepY5LEkkkkmvG/wDgnf8Ass6z%2Bzt8HZvF3xWu31L4ofEO6Gv/ABK1u5wZZb%2BUFhagj7sVurGNUHyg7yoAbA9/roy6hVk5YzEK1SpbT%2BSG8Yev2pd5PtFH6dxnmuAoU6XDmUz5sJhG7zW2IxD92riH3jp7Kgn8NCCekqswooor1T4EKKKKACiiigAooooAKKKKACiiigAooooAKKKKACiiigAooooAKKKKACiiigAooooAKKKKACiiigAooooAK8Z/Zf8A%2BS3/ALR3/ZZrH/1CvC9ezV4z%2By//AMlv/aO/7LNY/wDqFeF6APZqKKKACiiigAooooAKKKKACiiigAooooAKKKKACiiigAooooAKKKKACivMP20/i94q%2BAf7JnxD%2BMfgaO1Ot%2BH/AApeXWjvfRF7eG6EZEUsqggtEjlXdcjKqwyM5HB/Brxh%2B0BpWsfG39nvVvitqXjzXvA%2Bn2N34P8AFer6Xp1tfSvf6a8iW06WdvBas8dzBIysIk/dTxK%2B4qZHAPouvEPilp0esft5/DnSJvuXXwQ%2BIELZ9G1Twip/nWF/wT5%2BJnxS1zQdU%2BE/7SXiz4kT/FPw9omi6j4v0P4j6f4ciezS9inSO4spPD8S201pNcWd8qlnklVrZ1cJgAy3/wATvDfjH/gpt4L8GaTpviGG88PfB7xxHfzar4R1GxtJS%2BreEsG2urmCOC9A2nLW7yBcjcRuXKaTVmVGUoSUlutfuOb/AOCJeoyaj/wTG%2BGQuMiW1j1W2lU9VMerXiAfkBX1XXyX/wAEW/8AQf2MJvCnT%2BwviH4jsNv93bqMr4/8fr60ry8ibeS4e/SEV9yt%2Bh954qxjHxMzlx2lia0l6Tnzr8JoKKKK9U%2BBCiiigAooooAKKKKACiiigAooooAKKKKACiiigAooooAKKKKACiiigAooooAKKKKACiiigAooooAKKKKACiiigArxnxx/ykL%2BF/8A2Rnx5/6dvCFezV4z44/5SF/C/wD7Iz48/wDTt4QoA9mooooAKKK534r/ABX8A/BHwFe/Ez4m642n6PYPBHNNFZzXMsks0yQQQRQQI8s80s0scUcUaNJJJIiIrMwBAOiorzuy/at%2BAl98C7r9pFPHTQ%2BELGSeG%2BvbzSLu3uba5huTaSWkllLEt0l0LlTB9laITGXEYQuQpwPFP7fH7L/gr4My/H3xR4u1608NWuuNo%2Bpu/gDWjfaXeKhkaO9sFszd2QWMeYzzwxosbo5YK6FgD2OvGP2EWVPgdrruwAHxl%2BI5JJ4A/wCE11uvZ6%2BVvA/j3/hVn/BOj4yfEdZvLfQ/FnxcvYGzgmWPxVr7IB7lgoHuazrVI0aUqktopv7k3%2BhlXqxw9CdWW0U2/RJv9DH/AOCZEE/7Q/xG%2BKv/AAUa12Jnj%2BIfiF9D%2BH5lH%2Bo8N6a5gjZc/c86ZHd1/vxZ71X%2BI/8AxnL/AMFJ9G%2BD0P8ApPw7/Z48nxB4rxzDqHimdT9htT2b7PHulOOjeYjDkV1X7IWo2P7JP/BJDwh441SFI08MfCH/AISO5hcYzI9o9%2ByEf3i8hXHcmrn/AASc%2BEVz8Nv2LPDfjPxO0lx4r%2BJG/wAZ%2BMNUuf8AXX17qJ88O/oRC0S47FT3Jr5nDUZVqOFwcvtL21Tz1Urf9vVJL/t2CR9p4a03wxwJieJJ/wC8SSw9F9q%2BKpyq4ir60sPKUYdVKtF6cqPpOiiivqj5AKKKKACiiigAooooAKKKKACiiigAooooAKKKKACiiigAooooAKKKKACiiigAooooAKKKKACiiigAooooAKKKKACvGf2X/wDkt/7R3/ZZrH/1CvC9ezV4z%2By//wAlv/aO/wCyzWP/AKhXhegD2aiiigAooooAKKKKACiiigAooooAKKKKACiiigAooooAKKKKACiiigDM8aeDfCvxF8Hat8PvHWgWuq6Jrumz6frGl3sQeG8tZo2jlhkU8MjozKR3BNcN8OP2Q/gd8JtEv9C8DWHiW3TVnuZNXvLvx/rN3eahJNbQ2pkuLq4u3nndIIIYoXkdmt1jUQmOvTKKAOF%2BDH7N3wl%2BAdzq%2BpfDzTNXfUdfaD%2B2tb8S%2BK9S1zUbxYFZYInvNSuJ5zFGJJNkW/YhlkKqC7E8n44/5SF/C/8A7Iz48/8ATt4Qr2avGfHH/KQv4X/9kZ8ef%2BnbwhQB5j/wSM/0HwL8bfCnT%2Bwv2k/FtiF/uhZYH/8AZ6%2BtK%2BS/%2BCZf/Eq%2BLn7UXhTp5P7QOpX%2B3/r6ghfP47a%2BtK8nI9MrprtzL7p1EfoHil73HmMqfzqjP/wPC4SX5thRRRXrH5%2BFFFFABRRRQAUUUUAFFFFABRRRQAUUUUAFFFFABRRRQAUUUUAFFFFABRRRQAUUUUAFFFFABRRRQAUUUUAFFFFABXjPjj/lIX8L/wDsjPjz/wBO3hCvZq8Z8cf8pC/hf/2Rnx5/6dvCFAHs1FFFABXkH7a/w38ffEP4T6RffDLwy2u6x4T8f%2BHfE8Ph1LuGB9Wi0/U7e4nto5J3SJZjCkhi810jMqxh3RSXX1%2BigD5P8K/Anx34n/Z2%2BKHh74yfs/eM7a78d%2BN7zxxp%2BgeHNf0ZdS0u4S/gk063hna9%2BzLqURsLW9JZzaCWTZ50oDZ838Ufs0/tVaD%2Bwl%2B0JpkHwk%2BIHjrx18d/GFxfWHh3VvEXhv8AtjTojomnaXFNqMy3VppikjSw7R2bOsa3EMaK/lu4%2B%2BKKAOZx4p%2BJ/wALVOfE3w51bV9PViP%2BJXPquiSNglT/AMftk8q9Djz4/Qng18GftD6hr3gL/giv8SfBcXii%2B1zW9Z%2BL3jHw7bapqaQJc6lPcfEPUoZJJRbRRRB3j81mEcaJknaijAH6M1%2BcXxe/4rH4b/BH4GR/N/wk37cXjC8vof8AnrY2HjLxBPOuPTlDntivLzttZTWit5LlXrJqP/tx4vEUmsjrxjvKPIvWbjD/ANv/AAPXv%2BCr9tN4S/YO0b9l3wPcmG%2B%2BIfiXw74A0Mxj5gJZ492B6GG3dT7NX1n4e0HS/C2gWPhjQ7UQWWnWcVrZwr0jijQIij6KAK%2BUv2oj/wALj/4Kjfs//AyM%2BbZeB9F1nx/r1v16KLOwkPptuN3P%2B1X1zUYFKpmGIqraPLTXpGN3/wCTTX3H61xJFZXwRkmVx0c41sVJf9fqio0vuo4a68pabsKKKK9c/PwooooAKKKKACiiigAooooAKKKKACiiigAooooAKKKKACiiigAooooAKKKKACiiigAooooAKKKKACiiigAooooAK8Z/Zf8A%2BS3/ALR3/ZZrH/1CvC9ezV4z%2By//AMlv/aO/7LNY/wDqFeF6APZqKKKACiiigAooooAKKKKACiiigAooooAKKKKACiiigAooooAKKKKACiiigArxnxx/ykL%2BF/8A2Rnx5/6dvCFezV4z44/5SF/C/wD7Iz48/wDTt4QoA8x/YU/4lX7eX7W3hXp5PjHw7f7f%2BvrS2fP47a%2BtK%2BS/2Yv%2BJP8A8FZP2oNN6f2x4f8ABV%2BB6%2BVp8sGf1r60rycm0wco9qlVf%2BVJf5n6B4l%2B9xHRq/z4TAy%2B/B0E/wAYMKKKK9Y/PwooooAKKKKACiiigAooooAKKKKACiiigAooooAKKKKACiiigAooooAKKKKACiiigAooooAKKKKACiiigAooooAK8Z8cf8pC/hf/ANkZ8ef%2BnbwhXs1eM%2BOP%2BUhfwv8A%2ByM%2BPP8A07eEKAPZqKKKACiiigAooooAK/OL4Kf8XB/4KD/BzwMPnj8D%2BLvjb4puYu3%2Bk%2BMtYsInI9nXj3r9Ha/Nv/gmJqNr4n/4KJ/tD/EbUHzb/DObxV4ellP/ACxW88c69qjD8kJryc2alGhS/mqQ%2B6PNN/8ApKPFzmMqzw2HirupWpq3flcp/wDtiPbP2Pf%2BLwf8FHf2jv2gpP3tl4al0r4f%2BH5uuz7LF5%2BoR5/6%2BWQ4HrzX1xXyh/wRd0m7uP2F9O%2BLetpjWPiT4r1zxVrjf37m4v5Y92e%2BY4Ijmvq%2BjJE3lsKr3qXm/wDt9uX5OK%2BR%2BteKEo0%2BNsTgIP3MGqeFj2thqcKLa9aka0vPmv1YUUUV6x%2BfhRRRQAUUUUAFFFFABRRRQAUUUUAFFFFABRRRQAUUUUAFFFFABRRRQAUUUUAFFFFABRRRQAUUUUAFFFFABRRRQAV4z%2By//wAlv/aO/wCyzWP/AKhXhevZq8Z/Zf8A%2BS3/ALR3/ZZrH/1CvC9AHs1FFFABRRRQAUUUUAFFFFABRRRQAUUUUAFFFFABRRRQAUUUUAFFFFAHj3/BQc%2BOR%2Bw58WD8N/7T/tj/AIQLU/s/9ib/ALds%2Bzv5v2by/n8/yvM8vZ8%2B/bt%2BbFeG/sjfEP4T%2BBrr47f8MA6L4R8Q%2BD2htrz4R%2BC/COs2VlpWv6/b6LG9/baa%2B9bdY2dtOSeSM%2BXHPJM0hEnm19p0UAfE3/BI%2B08eeHfin%2B0V4X%2BIvwl8Z6Hrknj/AEfVPEmr%2BMLrSHl1HVrnw5pj3TbdO1G8WPL/AL1IwxiigmgiRsxtHH3fir4j%2BOdJ/wCCrXwx8F/Evwp4d0rTNY%2BEvj638D6hpfiee8utUaPUPCk8q3NtJZQpaMI42ZRHNcBgr5K7Ru%2Bnq/PT/gsf4t174N/ti/syftQ6OzLZ/DK38S6r4ldAcjSLjUvC%2BnXQGPVb1V/GuTHYn6nhJV7aRs36XV/uTb%2BRw5li/qGBnibXULN/4eaPM/lFt/I9W%2BHkkeg/8FpviLpEsgR9e%2BBukajEjHBlEF80BYDvjOPavrWvj/8A4KaQzfAnxt8Kf%2BCjnhaJnj%2BHPiBNK8dNbDd9p8M6kwgmY4zv8mR0dB03Slu1fXlpd2uoWkV/Y3Mc0E8ayQzROGWRCMhgRwQQcg1x5a/ZYjEYeW6m5rzjUs0/k1JPzR%2Bo8bRWY5Rk%2BdUtYTw8cPL%2B7Wwl6c4v/FTnRqR/uyfYkooor1z88CiiigAooooAKKKKACiiigAooooAKKKKACiiigAooooAKKKKACiiigAooooAKKKKACiiigAooooAKKKKACiiigArxnxx/wApC/hf/wBkZ8ef%2BnbwhXs1eM%2BOP%2BUhfwv/AOyM%2BPP/AE7eEKAPZqKKKACuO%2BPHxs8Nfs/fDqX4ieJtI1PVN2pWOmaZouiQxyXuqahe3UVpaWkCyyRx%2BZJPNGu6R0jQEu7oisw7GvL/ANrf4N%2BM/jP8MLCx%2BGt5pkXibw14w0XxLoEetzyRWV1caffw3JtZ5Io5HiSaNJIfNWOQxGQSBJNmxgDNh/bY%2BGS/s76r%2B0Lq3hPxLp66Jr7eH9V8H3VnbtrEGt/2gmnR6ZsineBppbqWGON1mMDieOQS%2BW2%2Bse5/b98Hx6HDaWXwO8e3njmTxrN4Vl%2BFdqmknXLbUotNXVZFkdtQFgsY094brzftZQpcQqGMsixnH8HfswfFdfgT8RfA/wAXPhn4C8T6n8Rtc1DxNquijxnf2%2BnpqM9wnkWKXSaf58UcFvb2hXUEjE32hGkW3iwuPPvhl/wT7%2BOvwLnsvjx8MbLwjc/EOT4o6l4p1jwnr/j/AFe70yS1vNBt9FNr/bdzaXF9cTqljZXRuprYmSTz49kaOjRgH1f8Hvit4O%2BOnwr8PfGP4fXc02i%2BJtIg1HTWuYDFKscqBgkkbcxyLkq6HlWVlPINfnf%2BxPE3w5/Z2/4KCftBuvlTTfGf4lWtu54L/YLjUGjwf%2BulyQPfNfb/AMAv2aIvhj%2ByV4d/Zp8a%2BKL29mstBW213V/Duq3ekyT3bsZbmW2mtpY7i2UzPIU2SB1QgFjyT8V/Ebwno/7On/BFD4/Wnhy%2BvZxq/wAX/Hlusl/fz3d1Kbjx3eaeoknnd5riTylXdLI7O5BZmJJNeRnS5cJKv/z7jUl8/ZyS/M93g7Jv7c4%2ByXDNXTxVFf8AgU6cfy5j6/8A%2BCcXhH/hB/2Cfg/4faLY4%2BHul3MqY%2B7JPbpO4PvukNe1VifDTwqngX4c%2BH/BESgLo2iWlioHQCKFY/8A2Wtuu/CUvq%2BEp0v5YxX3RS/Qy4hzD%2B1uIMZjr39tWqz/APA6tSS/CSCiiiug8cKKKKACiiigAooooAKKKKACiiigAooooAKKKKACiiigAooooAKKKKACiiigAooooAKKKKACiiigAooooAKKKKACvGf2X/8Akt/7R3/ZZrH/ANQrwvXs1eM/sv8A/Jb/ANo7/ss1j/6hXhegD2aiiigAooooAKKKKACiiigAooooAKKKKACiiigAooooAKKKKACiiigAooooAK%2BXv21/gvp/7RX7QWifA7UggXxR%2Bzr8R7CGSTpDO%2BpeEfJl%2BqS7HHuor6hrxnxx/wApC/hf/wBkZ8ef%2BnbwhUVacK1KVOaupJp%2BjTT/ADM61GniKMqVRXjJNNeTTT/BnAfsMavo37cH/BMPRfh98Wbd5J7vwpdeDfGNtNgzw3NqHspGbP3ZSESYHsXU8VP/AMEofil4p1/9nK5/Z9%2BKVzu8a/BfXrjwZ4iDE5mjtTizuBnko9vsAc/eMTHvXN/sbXtn%2Bzv/AMFB/jz%2ByNqN1HaWPi7Ubf4j%2BB7aRwv2kXqeXqQjU9dlxGoCrn5UY4GDUP7XHhj4jfsP/tEXv/BR34N6Hc654R1yxtbD47eD7KINO1nbjZBrNsP4pLdDh1PBQEnALuny9CrUoYejjJaulzUqtt%2BWLtzW/uuMZ9%2BWUmr2PsvC%2Bt/rLwpiOEsRNKvKUZYdyaSeLoXpOnd6ReKoPki21F1VRTa5oyPsiisb4efELwV8WPA2lfEr4c%2BI7bV9D1uyS70vUbR90c8TjII7g9ipwVIIIBBFbNfUxlGcVKLumfLVqNbDVpUasXGcW0000002mmnZppppppNNNMKKKKoyCiiigAooooAKKKKACiiigAooooAKKKKACiiigAooooAKKKKACiiigAooooAKKKKACiiigAooooAKKKKACvGfHH/KQv4X/wDZGfHn/p28IV7NXjPjj/lIX8L/APsjPjz/ANO3hCgD2aiiigAooooAKKKKACvzk/ac/wCJ5%2Bwj4e%2BFfX/hOv21Ne0Ex/8APQSeP9cm2/8AkD9K/Ruvzk8Qf8VT48/Zu%2BFX3vtn7X3xP17yvX%2By/FGuzbvw82vJzzXK6kP5uWP/AIFOEfybP0Dwt/d8d4TEf8%2BFWrf%2BCcPiaqfylGDP0booor1j8/CiiigAooooAKKKKACiiigAooooAKKKKACiiigAooooAKKKKACiiigAooooAKKKKACiiigAooooAKKKKACiiigAooooAK8Z/Zf/AOS3/tHf9lmsf/UK8L17NXjP7L//ACW/9o7/ALLNY/8AqFeF6APZqKKKACiiigAooooAKKKKACiiigAooooAKKKKACiiigAooooAKKKKAI729s9Os5dQ1C7igt4ImknnmkCpGijLMzHgAAEknpXNfD/45/BP4seBJvil8LPjD4W8S%2BGLczC48R%2BH/EFte2ERiGZQ1xC7RrsHLZb5R1xXF/t9/D7xp8Vv2KPin8OPh5o0up6zrPgbUbWy0iBwr6mWgbdZqWIUGdd0I3EL%2B85IGTXn/wCzL43tJPjJ8Y/jlb/Czx3ovhPxc%2Bmy6Dp2q/DfVrG71CXTNIjS9ujZzWySxM6tb2kSyoj3BsSIhIioxAPdPhP8cvgp8etDn8T/AAM%2BMPhbxpplrcm2udR8J%2BILbUYIZgoYxtJbu6q%2B1lO0nOGB71wXjj/lIX8L/wDsjPjz/wBO3hCuF/Ya0vxFqP7R3xl%2BKkj/ABB1rQvEdn4dXSvGPxO8Fy%2BHdSuJoBqIm0uKxksrEm0tEkt3juWtleR76ZHlm8gFdm/034r2n/BTbwXeeNvGnh7UNCuPg944PhrTtK8MT2d3YINW8JeYtzcyXsyXZOUwUhtwu05DbhtALH7e/wCyHrP7RnhDSfiR8GdbTw/8XPh7dtqnw68Srhds4Hz2M5/itp1Gx1OQCQSCu5W1v2J/2tfD37ZPwdn1bV/Dv9i%2BLdCun0b4i%2BC75P32j6nHlJoXRuTE5DFGOcrkH5lcD2mvmb9p/wDYQ8WeIPijL%2B1r%2Bxr8UG%2BHvxbFtHFqMkqmTRvFUMYwltqVuAd3ACiZQXUY4JVCnkYmhXwuJeLw0ebm0nBW95LaUb6c62s7c0dL3UWeHi8PisDjPr%2BDjzc1vaQTs5W%2BGcb2XtI7WuueOl1KMWeean8NP2gf%2BCWfi7WvHf7OPgC5%2BIHwD1jUX1LXPhxpZJ1fwdK/M8%2BmITie2Jy5t%2BCvGNoDyH6k/Z8/aQ%2BC37U3w5tvin8C/HdnrukXHyyNA22a1lwCYZ4mw8MgzyjAHBBGQQT4b8E/%2BCoXgVPFCfAf9t7w5/wpj4n27CKXTPEUuzSNW7C4sL8/uZImOMKzggnaC5BNX/jV/wAE0/hl488c3H7Q37MfxL1r4P8AxFvgJpfFXgiYfY9VY/MDe2JPkXaEncfulycsWriwk5UoueXNVKfWk3yyg%2Bqjf4ev7uaS/lklofreE4u4R8R6H/C3V9hjY2j9ajCUueySSxtBNVFUSSTxFNe0dr1adZ/vH9N0V8e2/wC1f/wUH/ZWQ6T%2B19%2ByXP8AEfQbU4PxH%2BDGLiWSMf8ALS40qQrKjAfM7IVjHO0ECvUvgZ/wUg/Ym/aIaOw%2BHn7QWhR6q7%2BW/h/Xbj%2BzdRSUHDR/Z7oI7sDwdgYZ7mvSo5vgas1TlLkn/LNckvlfR/8AbspHNmXh5xTgMLLGUKKxWGX/AC%2Bw0lXpW7ydO86fpWpUmtb7M9wooBBGQcg9DRXpHxIUUUUAFFFFABRRRQAUUUUAFFFFABRRRQAUUUUAFFFFABRRRQAUUUUAFFFFABRRRQAUUUUAFFFFABXjPjj/AJSF/C//ALIz48/9O3hCvZq8Z8cf8pC/hf8A9kZ8ef8Ap28IUAezUUUUAFFFcd8ePjZ4a/Z%2B%2BHUvxE8TaRqeqbtSsdM0zRdEhjkvdU1C9uorS0tIFlkjj8ySeaNd0jpGgJd3RFZgAdjRXjn/AA258LrX9mzXv2lde8L%2BI9LtvDGp3Gk6/wCFb21t/wC1rLVYbwWZsGWOdrcyNO0apIJzAyypL5vltvrnbX/goj4R1JF8NaN%2Bz18R77x0PFt94dufhrbRaP8A2rbXNnYW%2BoXEjztqI08wrbXdo%2B9LtstcpGAZA8agH0LX5v8AwQv7PXf%2BChfwq0q%2BmAi8Fa78bdfckZ8v7X411ewBwOckgKMck8V%2BgHwn%2BJ/g741/DDw98YPh5qTXeheJ9GttU0i4eIxs9vPGsibkblGwwDKcFSCCAQa/PD9gcf8ACY/8FJvijr3318GnxNovsj3fxR1e8/AlR%2BVeTm3vRoU/5qtP8HKX/tqP0Dw%2B/c1c1xn/AD6wOKfzqRpUF9/tpI/Rr/hMNJ/59NU/8Ed3/wDGqX/hMNJ/59NV/wDBHd//ABqvnbx9/wAFkf8Agm98L/HetfDTxz%2B0b9h1vw7q1zpmsWX/AAiGsS/Z7q3laKWPfHaMj7XRhuUlTjIJHNZP/D8v/glp/wBHQ/8Alk63/wDIVVLPMlhJxliaaa/vx/zM6Phb4mYijGrSyTFyjJJprD1Wmmk001CzTTTT6pp9T6f/AOEw0n/n01X/AMEd3/8AGqP%2BEw0n/n01X/wR3f8A8ar528A/8Fkf%2BCb3xQ8d6L8NPA37Rv27W/EWrW2maPZf8IhrEX2i6uJViij3yWiom53UbmIUZySBzXfft/fGD4mfs%2B/sTfFP44/Bu002bxP4S8D6hqujrq8zJbrLBC0m99scm7aoZgm3DsoQsgYuvXhcbg8bFyw9SM0t%2BVp29bHz%2BecM8ScMVoUs4wVXDSmm4qrTnTcknZtKaTaT0bXXQ9L/AOEw0n/n01X/AMEd3/8AGqP%2BEw0n/n01X/wR3f8A8ar571P9tz42%2BFfiH458F/EL4FeBNC0/4ZfDy08TeOfE938VLo2Nu93FqjW9tbY0cSzqH0%2BMSyukRRLgtHHM6CKTmfht/wAFKtX%2BKuqeGdD1b4T6v4X1uL40S%2BDvEOkLLeW0MiHwfqGvwz7dY0e0vXhdIYk2/Z7SQSoGWWSFStx0nhn1V/wmGk/8%2Bmq/%2BCO7/wDjVH/CYaT/AM%2Bmq/8Agju//jVfPP7JX7fPxJ/aH0/RLjxz%2BzB/wj934s%2BE2i/EHwnpfh7xrDqs91p18wR4JzcQWUVvcQl4mKh5EdHyHDKY66n9qvxZ8VdS%2BLXwv/Z4%2BFvxX1DwI3ja61i61bxXo2m2N1exW9hZCRbaBb%2B3uLdWkmmhZmeJz5UEqrtZhIgB67/wmGk/8%2Bmq/wDgju//AI1R/wAJhpP/AD6ar/4I7v8A%2BNV85QftCftI/E//AIJkeEPj/wDD60uf%2BE513SPDs3iG78K6Gt7cW9pLf2kWsahp1lIsgnlSzN5c28BWXcyxrsnOI34vwF8cf2lfjR%2BzV8QdQ8C%2BLvjbqGu/DP4lX%2Bh6Vc%2BHfCnhfTPEniizFjaXlvLeWevWcNpBsF6EZI4raZvIH7tXLRUAfYP/AAmGk/8APpqv/gju/wD41R/wmGk/8%2Bmq/wDgju//AI1Xxj4f/aU/aXm8V/C79ob4t/ErxlB8HvEfwn%2BHt1ceIvhhpPh6Xw1c%2BJ9SvL2PUftqalA%2BtRWc3n6MkbW6oIkldpGiYSOva%2BOPid8Q/g5%2B27qtx4h/a28W3fwz8DfCrWvH/wAVNC1nRdDex0e1lmaPSreCS10yK9CBLTWJcvPJIRp8YYyb2NAH0x/wmGk/8%2Bmqf%2BCO7/8AjVX7C/tNTtEvrGcSRSDKsAR3wRg8gg5BB5BFfI3/AAS//bg1b9rzx/8AF%2B18R/tA%2BDfFTadrWlaj4e8NeE9Z029Xw1pl5p0My2LTWTMbl4pC0c07vIDcLOI2WMJGv1V4P/5BM3/YUvv/AErloA1aKKKACiiigAooooAKKKKACiiigAooooAKKKKACiiigAooooAKKKKACiiigArxn9l//kt/7R3/AGWax/8AUK8L17NXjP7L/wDyW/8AaO/7LNY/%2BoV4XoA9mooooAKKKKACiiigAooooAKKKKACiiigAooooAKKKKACiiigAooooAKKKKACvGfHH/KQv4X/APZGfHn/AKdvCFezV4z44/5SF/C//sjPjz/07eEKAPZqKKKAOZ%2BK/wAGfhN8dfCUvgX4yfDnR/E2kTctYazYJOitjG9dwJRx2dcMOxFfM/8Aw7C%2BInwKlkvP2A/20fGXw1sxIZIfBOvoviDQEPUxxQXR3wBu7BnbuOgr6%2BorixOXYPFzU6kfeW0k3GS/7ei0/ldryPOxmU5fjpqpVh762lFuM16Si4yt5NteR8iR/HT/AIK5fBMfZPir%2Bxv4J%2BK1lAcPrnwy8Y/2bO0fZzaX6lnf1WPAz04rzb43ftd/8E6/jDHJF%2B31/wAE/fHvhC927LrWPG/wol3RjGCYr%2Bz3TFMfxKRnHTgV%2BglFcVXKsTOHIq7lH%2BWpCFRfe1GX5vzLy58S5Fio4nKczq0qkdnvJf8Ab8JUan/kzv1ufmN4G07/AIJr20cdx%2BxV/wAFg/Ffwnj/AOXPQtQ8bsdIh9AbLV1QnH%2B0/TivWfCfjX/gpnoip/wqH9tf9nP432a/dbWoTpt7cL22f2bI0IY%2B5xX1V43/AGaf2c/iY8knxH%2BAXgrX2lz5j614WtLpmPqTJGTmvKPFf/BI3/gm54yZ31f9kfwxCX%2B9/ZXn2AH0FtJHj8K87%2BxcwofwOWP%2BCdWn/wCSv2kP/JT7T/iJviTV0zSGCzBd8Th05v1qqEKt/N1ZPq22csP21v8AgoZ8Px5fxl/4Ja61fQR/f1T4eePLHVBN6lLUhZV%2BjHNH/D4z4B%2BGxt%2BNfwF%2BNXw6KcTP4w%2BGV1HGnqd0BlyPfHIpf%2BHKP7DOl8eAtN8ceFQP9WPD3xE1OMJ9PMmej/h0noGm8%2BDv2%2BP2mtDC/chsPiyxiHsVeBsj2zR7Piqj8DUvV05fjyU2H%2BuWTYn/AH7hamn3wuPrUvuhWp14fjbyOo8G/wDBXH/gm9462f2L%2B1r4Zt9/QayJ9Ox9ftccePxr1Pwn%2B1B%2BzT49CnwN%2B0P4G1nf9z%2ByvFtncZ%2BnlyGvlzxj/wAEa9X8Y7xrX7eXxI1gP1/4S7TdM1fd/vefB83415n4n/4N37PX0aO2/au022Dd0%2BCuiofzhMZo%2BvcWU/iwsJekrf8AtzRLzXw%2Br75fmNB%2BVXL8Ql9/1eT/AAP0mgnguYluLaZJI3GVdGBBHqCKfX5V6X/wbbePvCNy974J/b8uLKVm3A23gea0wf8AthqQx%2BArp9L/AOCNX/BRbwiVHgn/AIK0%2BLLONPuwpdarHGfqn251P5VrDN8%2BX8TLpf8AbtSm/wA7HFiavB1/9nq4xf48JS/9xY6X5H6W0V%2BfWj/sA/8ABZfwvj%2Bw/wDgqtBcbfu/2poZuc/Xzo5M1uxfs6f8F5dKwLT/AIKBfDTUwOg1LwXBFn6%2BVp%2Ba6Y5xjLe/gaq9PZv8po8StisFGVqXtZLzoyj/AO5ZL8T7oor4p0/4f/8ABfLSiC/x1/Z41TH/AEENO1GPP18m0WodVv8A/g4B0jP2PRP2c9Ux0%2ByPqS5/7%2BvHWn9stK8sLWX/AG4n%2BU2cqxlac%2BWnh6j/AO3YL/0qrE%2B3KK/P7Vfi3/wcVaXn7J%2By/wDBjUsdPsmoBc/9/dTSuc1P9qz/AIOKdEBN9%2Bwd8PJMdfsqrcf%2BitYbNYS4jw8Piw9b/wAEy/Rs9ShgM7xP8LBVH/29hvyeMifpJRX5c6p/wUG/4L%2BaNn7Z/wAE9dAfHX7L4K1Kf/0VqLVhXf8AwVV/4Ll6bJt1X/gnrb2qDrPJ8IfEjIPxS6aueXF2Ww%2BKnWX/AHBn/kexR4Q43xCvSyqtL0eFf/vQ/Q/WOivyX/4fA/8ABV%2B0/wCRi%2BAXgTR8fe/tL4U%2BLl2/XazUf8PpP267X/kYPE3wJ0jH3v7Q%2BG/jddv12wtUf65ZP1U16wa/OSN/9RPEl/Bw/jZf4aMZ/wDpGJmfrRRX5N2v/BbH9pO6k8i4/av/AGWLOXvHdeBvHcZH4taY/WtnT/8Agrp%2B0/qmPI/bY/Y/jz/z20XxbF/6MhFVHjDJ5bOX/kv/AMsMavBXiZQV6nDWZL/uSq/5s/UuivzOsP8Agph%2B1tqePJ/b0/Ysjz/z1l12P/0Zitmx/bs/bM1MDyf%2BCiX7Dcef%2BeniK9j/APRkwraPE%2BXy%2BGMv/JP/AJaebVyLjeh/EyDMF64Ot/8AIs/Riivz/sv2pf29NVx9g/4KFfsUS56fZteuJP8A2vWvZ/Fz/gpPquPsH7dX7JMmen2aW5f/ANq1tHP8PL4aU38of/LTzqtDiOj/ABMnxkfXDVF%2BaR900V8WWeq/8FWNUx9h/bN/Zpkz0%2BzaXdSf%2B1K1LTwd/wAFh9U/48v2tPgS%2Ben2bwndP/7PWqzdy%2BHD1H8o/wDyw8%2Bpj8fR/iZfiI%2BtO35zR9f0V8l/8Km/4LLv979rb4Pp/ueArg/zak/4Uz/wWOk%2B/wDtofCuP/c%2BHUh/m9X/AGnW/wCgWr90f/lhh/bFf/oDrf8AgMP/AJafWtFfJf8Awoz/AILCyff/AG6/hvH/ANc/hiD/ADek/wCGfv8Agr3J9/8A4KD%2BBI/%2BufwohP8AN6P7Sr/9AtT7of8AywP7XxP/AEBVvup//LT61rxnxx/ykL%2BF/wD2Rnx5/wCnbwhXmP8Awzj/AMFcZPv/APBSPwjH/wBc/g9aH%2BclU/gn8Mv2tfh1/wAFC/Bh/ak/ad034j/bfgz4y/sMad4Lg0cads1bwr527ymPneZuixn7vlHH3jWtDG1q1VQlh5xT6vksvum3%2BBvhsxxFesoSwtSCf2pcll62qSflomfYFFFFegeoFeX/ALW/wb8Z/Gf4YWFj8NbzTIvE3hrxhoviXQI9bnkisrq40%2B/huTazyRRyPEk0aSQ%2BaschiMgkCSbNjeoUUAfKeo/sgftGeJ/2X/iV8Ktel8FW3iL4m%2BJZ/E2txQa5dz6ZLJLqELSaDIWs0kayl021is5bwKJGNxO62yYVTzHh/wD4J%2BfEjwl8INT0LQv2f/hfaX138TbjxD4Q8EeGPilrfhvSfAFnNpMFlNFpuo6Xp0dy4nnhnuZ7ZILWGVtQnU5K75PtOigDyr4A/sreGfgr%2Bx/4S/ZFm17UJ9P8OeEbTRbnU9B1G50eeZoo1EksEtnKk1pucMyiOQFFO0MQOfif/gjH4AtfDXxy/a11OyuL%2B4s7L9oCTQtNn1XU5764Edr4j1JmElxcO807kzKWkkdnY/MzEkmv0tr4h/4JO%2BFW0fwb%2B0V4nuI/3utftoeNnR8dYYvEYiUfgyyfnXn4un7TFYf%2B7KT%2B6El%2Bp9fw7jVgsgzlX1q0aVP/AMCxVKT/AApn29RXzF4//wCCmv8AwgXjvW/Av/Dvn9p7Wv7F1e5sP7Y0D4T/AGmwv/JlaPz7aX7SPNhfbvR8DcrKcDNZH/D2H/rGp%2B1p/wCGb/8Auqs5Z1lkZOLqar%2B7P/5Wfm8uIcmhJxlV1Wnw1Omn/Po%2BtKxfiP8ADzwZ8XPh9rnwq%2BI2gxar4f8AEukXOl65pk7MqXVpcRNFNEShDAMjMMqQRnIIPNfPngH/AIKa/wDCe%2BO9F8C/8O%2Bf2ntF/trV7aw/tjX/AIT/AGawsPOlWPz7mX7SfKhTdvd8HaqscHFezftJ%2BMPid8PPgF4v%2BIPwZ8OWms%2BJ9B0C51LR9FvYXdNSkgQym1AR0IeVUaNG3YV3ViGAKnrw2Mw2Mi5UZXS30kv/AEqMf1O3B4/B5hFyw8uZLR6SXn9qMfwuY0H7Gv7PC%2BFfFPg7U/CGpavZ%2BNfDdvoPiqXxF4r1PU7rUrCD7T5Mclzd3Mk%2B9Ptc%2BJQ4lG5fn%2BRNud4H/YK/Za%2BHupLrnh/wFqU2pDxcPFEura14x1bUry41caRNowu5ri8upZZ2Gnzy2%2BJGZdpU43IjL4b4j/4KP/E34keFrnxj%2By42h6rYeI/Hc2kfCiWLwkuqN4g06w0hbrVb2RrnW9KtoY4rvz4A7XC7RZuAkrSDy%2BJ8G/t1fEb4ueI9E%2BPFl9ptdO8efDL9nfVY/Cja/e/YdKn8ReLtdtr%2BSD7NPFucxeSjMcpOtrCsySxL5R6TsPsPwx%2Byd8CPBNjolh4O8J3ulL4c8DWng7RJtO8R6hDNaaLavG8FqsqThztMUeZCxkYAhnYMwOj8b/2evhT%2B0Tomn6H8UtH1GYaRqJvtIv8ARPEV9pF9Y3BhlgZ4bywmhuIt0M00ThJAHSRlYFSRXyb8E/2qf2oPjd%2B1J8IPGGp%2BKvCP9ieO/hb4/wBb8OfD3Srq909rWSzv9GgtoNWlM1wl1LH5pRrhLaI20j3CLFJnJ9u/bf1bxJPpnwo%2BG8virVfDukeO/ivYaH4z1Lw3rtxp91DZnT7%2B6SCG9t2int/PvbWztfMjaORluCqlS4oA9Ck/Z3%2BFieAx8MNGsdY0XQIvDlhoVlpnhnxXqOlR6fY2ZJt0tPsdxEbN1B2mWApK6IiM7LGirzt3%2BxL%2Bz9P8PNO%2BFtjYeLdL0jTbq8uQdA%2BJevabd3s925kuZb27tb2O4v3lcl3a5klLMdxJPNeX/CLUf2hfin/wTb8b6H8J/iTdz%2BNLPUvHfhzwD4s1jVS1xcW%2Bn69qmn6ZcSXkoctKbW2gH2tw5dsTtv3HPFfs%2B2fxV%2BLOnfG/4FnwX4%2BsLDwl4p0Y%2BCfD3jj9oTVrTVYb%2BXSop7vT7vxBpN1fXSRjcl0IVmutq3SblVWWKIA%2BiNT/AGJv2btWv/DU114O1RNO8IW%2BmQeHvCtr4v1SDQLVNOZGsc6PHcrYSNA0cTRtJAzK0MRBzGhXtfDXwq8BeEPHXiX4l%2BH9B8nXfF8lo/iHUHupZGuvssAggQB2KxIiZwkYVdzyOQXkdm%2BLPBHiDx74o/Z1/Zd%2BLms/GzxtP4is/i7H4Y142njK%2Bjs9QVb6/tLq2ulimEerxxtaCKO6uBIZkjE%2BFaU17dfaZqvhf/gqV4fbTvH3iuTT/FvwU8SXuq%2BHbzxVeTaQlxY6n4cgtpoLB5TbW8ipc3GZI41d/PfcxyAAD2jw18MfA/g/xj4k8f8Ah3Q/s%2Br%2BLrq2uPEN39plf7XJb26W0LbWYrHtijRcIFBxk5JJq14P/wCQTN/2Fb7/ANK5a1Ky/B//ACCZv%2Bwrff8ApXLQBqUUUUAFFFFABRRRQAUUUUAFFFFABRRRQAUUUUAFFFFABRRRQAUUUUAFFFFABXjP7L//ACW/9o7/ALLNY/8AqFeF69mrxn9l/wD5Lf8AtHf9lmsf/UK8L0AezUUUUAFFFFABRRRQAUUUUAFFFFABRRRQAUUUUAFFFFABRRRQAUUUUAFFFFABXjPjj/lIX8L/APsjPjz/ANO3hCvZq%2BcP2j9X%2BNej/t4fCef4HfD/AMLeItSb4R%2BO1u7TxX4wudFgjg/tTwkS6S2%2Bn3rO%2B7aNhjUYJO/ICkA%2Bj6K8Z/4Tj/goX/0a/wDBn/w/Grf/ADL0f8Jx/wAFC/8Ao1/4M/8Ah%2BNW/wDmXoA9morxn/hOP%2BChf/Rr/wAGf/D8at/8y9H/AAnH/BQv/o1/4M/%2BH41b/wCZegD2aivnHSf2jv27dY%2BM%2Bv8AwOt/2UPhIuqeHfC%2Bka7eXL/HXVPIkg1G51K3hRCPDG4uraXOWBUAB48FiWC9R/wnH/BQv/o1/wCDP/h%2BNW/%2BZegD2aivGf8AhOP%2BChf/AEa/8Gf/AA/Grf8AzL0f8Jx/wUL/AOjX/gz/AOH41b/5l6APZqK8Z/4Tj/goX/0a/wDBn/w/Grf/ADL1y/gH9o79u34ieK/G/hDR/wBlD4SQ3HgPxRFoWqyXPx11QJPPJpWn6mHi2%2BGCSnk6jCpLBTvRxjADMAfR1FeM/wDCcf8ABQv/AKNf%2BDP/AIfjVv8A5l6P%2BE4/4KF/9Gv/AAZ/8Pxq3/zL0AezUV4z/wAJx/wUL/6Nf%2BDP/h%2BNW/8AmXo/4Tj/AIKF/wDRr/wZ/wDD8at/8y9AHs1FfOPwi/aO/bt%2BMvhS78X%2BHP2UPhJbW9n4o1vQpI73466ormfS9VutMncbfDDDY01pIyHOSjKSFOVHUf8ACcf8FC/%2BjX/gz/4fjVv/AJl6APZqK8Z/4Tj/AIKF/wDRr/wZ/wDD8at/8y9H/Ccf8FC/%2BjX/AIM/%2BH41b/5l6APZqK8Z/wCE4/4KF/8ARr/wZ/8AD8at/wDMvXL/AAR/aO/bt%2BPHwY8IfHHwr%2Byh8JLXS/GfhfT9d0221D466os8MF3bR3EaSBPDDKHCyAMFZhkHBI5oA%2BjqK8Z/4Tj/AIKF/wDRr/wZ/wDD8at/8y9H/Ccf8FC/%2BjX/AIM/%2BH41b/5l6APZqK8Z/wCE4/4KF/8ARr/wZ/8AD8at/wDMvXL/ABu/aO/bt%2BA/wY8X/HHxV%2Byh8JLrS/BnhfUNd1K20/466o080FpbSXEiRh/DCqXKxkKGZRkjJA5oA%2Bibqys76Pyr20imX%2B7LGGH5Gse/%2BFvwy1XP9qfDrQrnPX7RpEL5/Na82/4Tj/goX/0a/wDBn/w/Grf/ADL0f8Jx/wAFC/8Ao1/4M/8Ah%2BNW/wDmXqZQhL4kn8jalicRQf7qco%2BkmvyaOuv/ANmT9m3Vc/2n%2Bz54Huc9fP8ACdm%2BfzjrHvv2IP2LdTz/AGl%2ByF8L7jPXz/AGnN/OGsn/AITj/goX/wBGv/Bn/wAPxq3/AMy9H/Ccf8FC/wDo1/4M/wDh%2BNW/%2BZesZYPCS%2BKnF/8Absf/AJE9KlxFxFQ/hY2tH0rVl%2BVVDb7/AIJyfsC6hnz/ANjX4aLn/nh4Ns4v/QIxWRe/8Er/APgnbf58/wDZB8Frn/njpnl/%2BgEVQ%2BLv7R37dvwa8KWni/xH%2Byh8JLm3vPFGiaFHHZfHXVGcT6pqtrpkDnd4YUbFmu42c5yEViAxwp6j/hOP%2BChf/Rr/AMGf/D8at/8AMvWMssyyW9CH/gEf/kT0aXHPG9H%2BHmuJXpiK/wD8uZyF5/wR7/4Jq3%2BfP/ZN0Fc/88by8j/9AmFZd5/wRL/4Jf32fO/ZYtVz/wA8fFGrR/8AoF2K9D/4Tj/goX/0a/8ABn/w/Grf/MvR/wAJx/wUL/6Nf%2BDP/h%2BNW/8AmXrJ5Lk0t8NT/wDAI/5HfT8TvEmj8GdYtf8AczW/%2BWM8y/4cf/8ABNmD/kFfBHVLD0%2ByeO9YGPzujSf8OVv2IIP%2BQXaeO7H0%2ByfETUhj85TXp3/Ccf8ABQv/AKNf%2BDP/AIfjVv8A5l65fx9%2B0d%2B3b8O/FfgjwhrH7KHwkmuPHniiXQtKktvjrqhSCePStQ1MvLu8MAhPJ06ZQVDHe6DGCWWP7CyXphof%2BApflY6P%2BIr%2BJz%2BLOcS/WtKX/pSkc1/w5t/Zkh/5BnxT%2BL9l6fZfidejH5k0f8OgvhLD/wAg39q79oOy9PsvxXnGPzjNem/8Jx/wUL/6Nf8Agz/4fjVv/mXo/wCE4/4KF/8ARr/wZ/8AD8at/wDMvR/YWT9KK/8AJl%2BUkH/EVfEZ75nUfqqUv/SqEjzL/h0vosXGnf8ABQb9qWz9Ps3xgYY/O3NUvgr%2Bypdfsx/8FC/Ba3H7THxU%2BIq618GfGWwfE3xWNUOn%2BTq3hXP2c%2BWnl%2BZ5o39d3lR9Mc%2Btf8Jx/wAFC/8Ao1/4M/8Ah%2BNW/wDmXqh4H8D/ALVnjH9qzw58bvjd8OPh74Z0bwz8PfEOhww%2BFfiHfa1dXd1qV9olwjMlxpFikUaJpcoLB3YtKgC4yRtQyrL8NVVSlC0l5y/Jza/A8/NOPuL87wM8HjsV7SnO106dBXs0170MNCa1S2muzurp%2B60UUV6B8eFFFFABRRRQAV85fsQeGNN8Lfs8%2BLL2xEhF7%2B0N4/1O%2BdhnBHjzVN7cDoqRj8Fr6Nr5K/ZK8Wftnaf8PfFFn8MfgH8MNX0JPjT8Rf7P1HXvi7qOm3cy/wDCZ6yWMltFoFykRDbgAJnyADkE7Qmk2n2LjUqRhKCekrX87O6%2B56n1B/wnPgn/AKHDS/8AwYR//FUv/Cc%2BCf8AocNK/wDBhH/8VXlv/Ccf8FC/%2BjX/AIM/%2BH41b/5l6P8AhOP%2BChf/AEa/8Gf/AA/Grf8AzL0yD1L/AITnwT/0OGlf%2BDCP/wCKo/4TnwT/ANDhpX/gwj/%2BKry3/hOP%2BChf/Rr/AMGf/D8at/8AMvR/wnH/AAUL/wCjX/gz/wCH41b/AOZegDUvvgZ%2BxRqnw40n4O6n8HfhbceEdAvftmheFZ/D2mvpum3O6RvOgtinlQybpZTvRQcyOc/Mc6Gn/Dj9lHSbW1stK8B/D22hsrTSbSyht9LsUW3g0ueS40yJAFARLSeWWW3UYEEkjvGFZiT5n8Ef2jv27fjx8GPCHxx8K/sofCS10vxn4X0/XdNttQ%2BOuqLPDBd20dxGkgTwwyhwsgDBWYZBwSOa6j/hOP8AgoX/ANGv/Bn/AMPxq3/zL0Aatj8D/wBirS/FOt%2BOdM%2BEHwut9b8SwXUPiPWIPD%2BmpdarHdY%2B0pcyhN86y7V8wOSHwN2cV0HjfSvgB8TPBFz8MviRpvg7xB4bvIUiu/D2uQ2l3YzxoysiPBKGjZVZVIBXAKgjoK4r/hOP%2BChf/Rr/AMGf/D8at/8AMvR/wnH/AAUL/wCjX/gz/wCH41b/AOZegDqh4J/ZhHh638Ijwj4DGk2nhufw9a6X9gsvs8OkTiNZtOSPbtW1kEMQeADy2ESAqdoxh3X7Pn7DF98LbX4HXvwQ%2BE83gqyvzfWfg%2BXw1pjaXBdHfmdLQx%2BSkn7x/nChvnbnk1xPxu/aO/bt%2BA/wY8X/ABx8VfsofCS60vwZ4X1DXdSttP8AjrqjTzQWltJcSJGH8MKpcrGQoZlGSMkDmuo/4Tj/AIKF/wDRr/wZ/wDD8at/8y9AFn4j/s2/sF/GLRNA8M/Fz4B/CHxVpvhS2a28Laf4j8LaXfQaPCQgMdrHNGy26ERxgrGFGI1/ujFvU/gZ%2BxRrXxhtv2htZ%2BD3wtu/H9ls%2Bx%2BObnw9psmsQbEEabL1kM67UAUYcYUADisv/hOP%2BChf/Rr/AMGf/D8at/8AMvR/wnH/AAUL/wCjX/gz/wCH41b/AOZegD1H/hOfBP8A0OGl/wDgwj/%2BKo8GHfoZnUHZNfXcsRIxuR7mRlb6FSCPY15d/wAJx/wUL/6Nf%2BDP/h%2BNW/8AmXrl/i7%2B0d%2B3b8GvClp4v8R/sofCS5t7zxRomhRx2Xx11RnE%2Bqara6ZA53eGFGxZruNnOchFYgMcKQD6Oorxn/hOP%2BChf/Rr/wAGf/D8at/8y9H/AAnH/BQv/o1/4M/%2BH41b/wCZegD2aivGf%2BE4/wCChf8A0a/8Gf8Aw/Grf/MvR/wnH/BQv/o1/wCDP/h%2BNW/%2BZegD2aivnHx9%2B0d%2B3b8O/FfgjwhrH7KHwkmuPHniiXQtKktvjrqhSCePStQ1MvLu8MAhPJ06ZQVDHe6DGCWXqP8AhOP%2BChf/AEa/8Gf/AA/Grf8AzL0AezUV4z/wnH/BQv8A6Nf%2BDP8A4fjVv/mXo/4Tj/goX/0a/wDBn/w/Grf/ADL0AezUV4z/AMJx/wAFC/8Ao1/4M/8Ah%2BNW/wDmXrl9W/aO/bt0f4z6B8Drj9lD4SNqniLwvq%2Bu2dynx11TyI4NOudNt5kcnwxuDs2qQFQFIISTJUhQwB9HUV4z/wAJx/wUL/6Nf%2BDP/h%2BNW/8AmXo/4Tj/AIKF/wDRr/wZ/wDD8at/8y9AHs1FeM/8Jx/wUL/6Nf8Agz/4fjVv/mXo/wCE4/4KF/8ARr/wZ/8AD8at/wDMvQB7NRXzjpP7R37dusfGfX/gdb/sofCRdU8O%2BF9I128uX%2BOuqeRJBqNzqVvCiEeGNxdW0ucsCoADx4LEsF6j/hOP%2BChf/Rr/AMGf/D8at/8AMvQB7NRXjP8AwnH/AAUL/wCjX/gz/wCH41b/AOZej/hOP%2BChf/Rr/wAGf/D8at/8y9AHs1FeM/8ACcf8FC/%2BjX/gz/4fjVv/AJl65fwD%2B0d%2B3b8RPFfjfwho/wCyh8JIbjwH4oi0LVZLn466oEnnk0rT9TDxbfDBJTydRhUlgp3o4xgBmAPo6ivGf%2BE4/wCChf8A0a/8Gf8Aw/Grf/MvR/wnH/BQv/o1/wCDP/h%2BNW/%2BZegD2avGf2X/APkt/wC0d/2Wax/9QrwvR/wnH/BQv/o1/wCDP/h%2BNW/%2BZerf7K3w5%2BNPg/WPih47%2BOmgeF9J1Tx98Qotcs9K8J%2BJbnVre1tYtB0fTFV7i4srNmkaTTpXKiLaFkQbmOcAHrdFFFABRRRQAUUUUAFFFFABRRRQAUUUUAFFFFABRRRQAUUUUAFFFFABRRRQAV8r/tPftafFz4YfGPxZrXgHw74Pk8MfB/w/4fvfGp1rSLibVdUt9Xv5UuYLC4juI0svItrOO4zJFOLmQpGRD5fmn6orxn4z/sQ/Dj43fFI/EzXPHPirS4tRtdItfF/hrRrq1TTvFMGl3sl7YxXyy28kwWOaaXP2eWAyxyGKYyxhUAB7NRRRQAUUUUAfMfhz9pX4mQ/t/wDij4P/ABG1jw94T8Nr4gtNE8GRaj8ItZS68YwDQINRxB4ja7XTmlju7nUALQQvJ5dpMAoLNIv05Xlfiz9lqDx/8ZNI%2BKfj343%2BNdX0rw9rsetaB4AuDpkWjWOoR27wRzhobJL2XZ5kkipNdSRiR92z5EC%2BqUAFFFFAHi//AAUF%2BLvxw/Z%2B/ZH8afHr4BXvhSPWPBOhXeuXUHjDRbm%2Btru0tbaWZ7dEtrq2ZJXZEUSFyqAsSj8CvP8Ax5%2B1p8XPBfx48W6n4U8O%2BEIvh54Q%2BMfhH4feMrObSLg63quq67BoqR6hDdpcLDHHB/bmkxmKS3leRIZ8Sx7UFew/tY/s42X7WnwI179n3Wvir4p8I6T4nspbHXL/AMILp32u5spYnimtt1/aXUaI6vyyIsgKja6854uD9gHwdP8AEWz%2BIvir44%2BPtdY6zpOueJtG1CXSorHxPrmmJGljq17HbWETLcRCC0wts0EDGxti8TGPJAPe6KKKACvF/wBsn4u/HD4JWvgHxj8LL3wp/Y2ofEzw54e8X2PiDRbm5urm11XWbHTQbOWG6hS2kjW5lk3yJOpKIuzkmvaK8q/au/Zbf9qrw3oXhef4%2B%2BN/A1voXiSw11G8Fw6Oz3d7Y3kF5ZtKdS0%2B8G2K4t43CxhA3Kyb1O0AHnH7PP7SvxM1v9qrxb8Efihq/h7wnp0PinW7fwT4Sk%2BEWs6Zc69bQukpv7fWri7%2Bwag7GSaWWK2gL8l2K4Yn6cryXSf2UQ/xk0X4y/Ef9oDx341m8L3d5d%2BE9C8QjSYbDR7q5t5LWS4iWw0%2B2llf7PNPCvnySqizvtAJBHrVABRRRQB4f%2B3d8XPjx%2Bz98GtX%2BOvwo8Y%2BBbHT/C2i3N5e6L4s8M3t/c%2BIb3KLZ6ZZyW17B9nmuJSLdG8q6ZpZ4gsLH5W8/wDgj%2B198Z9c%2BJfgr%2B1vBnhLSPhp43%2BJ/ij4beFfDWnaXNHq%2BiX%2BgQ6tvnnuRcNbzQSN4f1NFhjt4jGrWx8yTLAen/tK/sgwftJePPBHxAm/aB8d%2BELnwDd3N7otj4Yi0aezkvZUEa3k0Gp6deI88MfmLDIApjE8pHzNkVfAf7DXw98B/GW3%2BLsPxF8XalBp2u6nr2ieENSubL%2BydK1vUY3j1DVIEitUn8%2BcT3ZZXmeFGvrkxxR%2BZwAe10UUUAFfL/7XPx4/aX%2BC3xE0/wAKaVD4A8a6P45h1q20X4cxeD76TWEtbTQ7q7kv7icXrxXVsLqK3tpIRaxA/b4UExkZEk%2BoK8Om/YmuI/2j/Ff7TWiftV/EvTtX8W6bDp1zpcMHh%2Be00%2BzhgaOG2s2udJlubeJZXe62LNtedy7hwdtADP2EP2g/G/x7%2BHt5dfFfx9o194u04Wba/wCG7L4Xav4RvNAee2WUQXNlq91PcOC2/wAu4ASORUO0NtJr3SvN/gd%2Bzdp3wZ8T%2BJPiHrHxS8U%2BOPFXiuKxt9Y8T%2BLmsFuXtLMTfZbVItPtbW2jija5uXG2EMzXEhZmyMekUAFFFFAHxz/wUE/bj%2BKn7GHjn%2B09c0XQPGPhF9G1HW7fwrL8OdTspbdNN0a%2B1JJP%2BEimun0ye7%2B16aNlisCXQjmWUDbC0jevfs0fF3456t8VPG/7PX7R1z4U1DxP4R0nQ9aj1rwVpFzYWNzY6oLyNIjBc3Ny6yxXGnXal/NxIhibZGSVFb46/sJeCP2nNaurX4//ABb8a%2BKPBdzJcSL8MryTTYdFikmsZrJm329lHfSAR3EzBJbp0Dvu2/IgXp/2fP2ZtI%2BAd5r3iK7%2BKHizxx4j8SGzj1bxV41uLN76W2tIjFa2o%2Bx21vCsUQeVhiPezzyu7Ozk0AelUUUUAFfEf7U/7ZX7Wfwb%2BNXiD4UeDvDfhzxrqdhotxrvhgJ8D/EEcmigajplqhhb7c48TSCx1S487%2By/KeFoSsojEwjr7crw/Xv2LdT8S%2BPT8Tta/a5%2BKM2t6fBeReDbwpoAHhVbqaGSf7JGNJ2Ts0cC2%2B69W6ZYmcKVd2cgHVfssfFh/jJ8I4PFl78TNG8VX8Oo3Vlql9o3gy%2B8Oi2uIpWVrWbTdQuJ7qznjGFeOZw%2Bfm2qGAr0auG%2BAfwF8PfADwzqejaV4p1vxBqOv69ca34k8SeI5oGvdVv5giNPKLeKGBMRxQxKkMUcapEgCjBJ7mgAooooAKKKKACiiigAooooAo%2BKPENh4S8Naj4r1UObXTLGa7uREuW8uNC7YHc4U185/sTftJ/Gvx/4p0fwZ8bPD3gyzHjr4W2XxG8Mw%2BDNKuLQaZHeXBN3p92ZriUXc0b3Ns/2xBAJ2lmJgj2gv9LXdpa39rLY3tuk0M0bRzRSqGV1IwVIPBBHGK8h/Zm/Yr8Bfswaq%2Br6B8QfFviWW28MWPhnw6PFl7azDQNCs3ke3021Nvbwlo1MnzSzma4kEcXmTP5a4APYqKKKACuF/ag8efEX4Wfs0fET4nfB/wAKLr3i3w54F1fVPC2htYzXQ1HUbezlltrYwwMsswklRE8uNg7bsKQSDXdVneLdEv8AxL4Y1Dw/pfivUdCub20kht9a0hYGurF2UgTRC4iliLqeQJI3TI%2BZWGQQDy79in4tT/FD4Z31lq3xC8P6zqfh3VV0680zRPhhqfg59DQW0EkVncaVqlzPcwuEcSK7eWjxSxbEwN7%2BxV558B/2dtJ%2BB154l8R3PxE8SeMfEni/UYbzxF4p8VvZi7ujDbpbwRCOxtra2iijjQBVjhTJZ2YszMx9DoAKKKKAPlz9qj9rH4ofs4fF7xxZfErRvCXiL4X2H7O/i/x7baFb6JcJqrtog0tZ7a4uZLl7eaKdb6cBBbIVCJl3ywrt/wBmf4v/AB81T4ueMv2df2ln8JXnijwx4Y8PeJY9V8FaTc2NlJZas%2BpW62xhubm5cyw3GkXYMokCyI8TeXGdy1B8Y/2FfDvx0%2BOrfGXx58dvHMumzeCtT8I33w9hg0X%2BxLvRtSW2%2B32khfTWvSJ2tIHZxdB1KEIyIzIek/Z3/Zd0P9n2%2B1rxHP8AFDxb438Q6/a2Flf%2BJ/G1zaSXpsLFJFs7MfZLa3j8qIz3DglDI73Mru7s2aAPT6KKKACvkT41/tL/ALW3gzXf2gPAlv4V8GeLL3wF4f8ACniT4bWOk/D/AFO/nWPUdV1KEJeWsV48uozwLpsc6m2FuS5IVflVq%2Bu68Ll/Yo8QxfHTxt8f9C/bQ%2BK2lat430ix0y5sbKz8MNaabbWVxcz2aWwl0V5P3RvLpQZnlLrORJ5hVCoB1f7Knxbm%2BMvwpHibUfido3inUbXVbmx1a60fwRf%2BGzZ3ETfNaz6ZqNxPdWk6KV3JMwYhlbaqsK9JrhPgH8A9A%2BAOhazY6f4t1zxHqvibxBLrnifxN4klt2vdVv5IYYPNkFtDDBGFgt7eFUiijRUhQBc5J7ugAooooA%2BNv2lv2u/2lv2ePjNB8NtZT4Z%2BNb7W4IJvCMOneFr20l8F3mpeIdM8PaRNqcr30wuop21ecFols5HFjdLGGXzDF7j%2Byr8X/iR8Rh4/%2BH3xiOiT%2BKvhp48bw1rOq%2BGtOms7DU/M0vTtWt7iG3mnnkt82uqW6PG00uJI5MMQRjhbb/gmr4Sa6%2BIb%2BIf2l/idrNv8SdeOuaxb6kdC8yz1KK4hn0%2B5trqLS0ulNg9vbi0jeaSKJYUDI/OfWPgH8BdD%2BAfh7VtNsvF%2BueJNW8Ra9NrXifxR4le2N/q99JHFD50wtYIIF2QQW8CJFFGixwRqF4JIB3VFFFADLn7T9mk%2Bx7PO2HyvNzt3Y4zjnGa%2BIPit%2B1z%2B2n8NPiJrnw2t7bwH4z17wxe%2BGrfVvHXgj4K6/q0fhy31Zrx72wl0qz1Ke7uZo4bKxuiYp0/d3ULSwIDE0n29dwyXFrLbw3UkDyRsqzxBS8ZIwGXcCuR1GQR6g189/Bj9gLxB8BPhtcfDT4d/t1fGKKO61Z9Tm1m8svCc%2BoS3cryyXM80z6EftMk7y7pJJxI%2BY02FAMEA9Z%2BAnxDsvit8HfD/AMQrD4gaN4qTU9PEj6/4f0mawtLuQErIUtZ5ppbYq6sjQySO8bKysdykDr65L4F/Bfwl%2Bz78L9O%2BFPgq5v7iysJbq4mvtVuRNdX13dXMt1dXUzhVDSzXE80r7VVd0h2qq4UdbQAVR8Tw%2BJLnw3qFv4N1OxstXkspV0u81Owe6toLgoRHJLDHLE00atgsiyRlgCA6k7herN8Y6Df%2BKPC1/wCHdL8W6loNzeWrxQa1o4gN1YuRxNELiKWIup5AkjdDj5lYZFAHw98N/wBuz9rX4wfFPW/gl8LNN%2BHyeM9NtddvpPGfiv4Xa1oa6ppmkWuiypYy6JeXyahp8r3fiHYk08zx%2BVDJcJC6zoD9jfAL4tab8fPgT4K%2BOujabLZ2fjXwlpuvWlnM%2B54Iry1juFjYgDJUSAE%2BorxbV/8AgmR4H1rXL74i3f7SnxTT4gasl5a618Sba90iHVr/AEy6trW2m0wommizhtillaMPItopVkgWVZQ5Zj9B%2BC/B/hr4eeDtJ8AeDNJi0/R9D0yDT9JsIc7La2hjWOKNc84VFVR9KANOiiigDl/jTqPjjRvhbrWt/DnxDY6Xq1hZm6hvtQ8H3viBEjjIeUDTrGeC5vJGiV1SKGQOXZcK5%2BRvi34S/wDBRH4/eJPGmh6n43uPCPgTwZqU86%2BIPHF58DPEU1trF/Dr91pCJcyrfRp4ZnktbS1/cao0ksDyrG%2BdgSvtv4meDNd8e%2BEpvDnhv4pa/wCDbySWN4tf8MxWL3cG1gSqrf21zAwYAqQ8TcE4wcEeK3X/AATm8Kah4PuPhtq37SHxNu/DGuahNf8AjzQJrjRxF4wu57xrq4mvpV00XEXmllhaOzltYhDEkaoo3bgD6JooooAKKKKACiiigAooooAKKKKACiiigAooooAKKKKACiiigAooooAKKKKACiiigAooooAKKKKACiiigAooooAKKKKACiiigAooooAKKKKACiiigAooooAKKKKACiiigAooooAKKKKACiiigAooooAKKKKACiiigAooooAKKKKACiiigAooooAKKKKACiiigAooooAKKKKACiiigAooooAKKKKACiiigAooooAKKKKACiiigAooooAKKKKACiiigAooooAKKKKACiiigAooooAKKKKACiiigAooooAKKKKACiiigAooooAKKKKACiiigAooooA//9k%3D\">"
      ]
     },
     "metadata": {},
     "output_type": "display_data"
    }
   ],
   "source": [
    "s.run(tf.global_variables_initializer())\n",
    "\n",
    "BATCH_SIZE = 512\n",
    "EPOCHS = 40\n",
    "\n",
    "# for logging the progress right here in Jupyter (for those who don't have TensorBoard)\n",
    "simpleTrainingCurves = matplotlib_utils.SimpleTrainingCurves(\"cross-entropy\", \"accuracy\")\n",
    "\n",
    "for epoch in range(EPOCHS): # we finish an epoch when we've looked at all training samples\n",
    "    \n",
    "    batch_losses = []\n",
    "    for batch_start in range(0, X_train_flat.shape[0], BATCH_SIZE):  # data is already shuffled\n",
    "        _, batch_loss = s.run([step, loss], {input_X: X_train_flat[batch_start:batch_start+BATCH_SIZE], \n",
    "                                             input_y: y_train_oh[batch_start:batch_start+BATCH_SIZE]})\n",
    "        # collect batch losses, this is almost free as we need a forward pass for backprop anyway\n",
    "        batch_losses.append(batch_loss)\n",
    "\n",
    "    train_loss = np.mean(batch_losses)\n",
    "    val_loss = s.run(loss, {input_X: X_val_flat, input_y: y_val_oh})  # this part is usually small\n",
    "    train_accuracy = accuracy_score(y_train, s.run(classes, {input_X: X_train_flat}))  # this is slow and usually skipped\n",
    "    valid_accuracy = accuracy_score(y_val, s.run(classes, {input_X: X_val_flat}))  \n",
    "    simpleTrainingCurves.add(train_loss, val_loss, train_accuracy, valid_accuracy)"
   ]
  },
  {
   "cell_type": "markdown",
   "metadata": {},
   "source": [
    "# Submit a linear model"
   ]
  },
  {
   "cell_type": "code",
   "execution_count": 31,
   "metadata": {
    "collapsed": true
   },
   "outputs": [],
   "source": [
    "## GRADED PART, DO NOT CHANGE!\n",
    "# Testing shapes \n",
    "grader.set_answer(\"9XaAS\", grading_utils.get_tensors_shapes_string([W, b, input_X, input_y, logits, probas, classes]))\n",
    "# Validation loss\n",
    "grader.set_answer(\"vmogZ\", s.run(loss, {input_X: X_val_flat, input_y: y_val_oh}))\n",
    "# Validation accuracy\n",
    "grader.set_answer(\"RMv95\", accuracy_score(y_val, s.run(classes, {input_X: X_val_flat})))"
   ]
  },
  {
   "cell_type": "code",
   "execution_count": 32,
   "metadata": {},
   "outputs": [
    {
     "name": "stdout",
     "output_type": "stream",
     "text": [
      "Submitted to Coursera platform. See results on assignment page!\n"
     ]
    }
   ],
   "source": [
    "# you can make submission with answers so far to check yourself at this stage\n",
    "grader.submit(COURSERA_EMAIL, COURSERA_TOKEN)"
   ]
  },
  {
   "cell_type": "markdown",
   "metadata": {},
   "source": [
    "# MLP with hidden layers"
   ]
  },
  {
   "cell_type": "markdown",
   "metadata": {},
   "source": [
    "Previously we've coded a dense layer with matrix multiplication by hand. \n",
    "But this is not convenient, you have to create a lot of variables and your code becomes a mess. \n",
    "In TensorFlow there's an easier way to make a dense layer:\n",
    "```python\n",
    "hidden1 = tf.layers.dense(inputs, 256, activation=tf.nn.sigmoid)\n",
    "```\n",
    "\n",
    "That will create all the necessary variables automatically.\n",
    "Here you can also choose an activation function (remember that we need it for a hidden layer!).\n",
    "\n",
    "Now define the MLP with 2 hidden layers and restart training with the cell above.\n",
    "\n",
    "You're aiming for ~0.97 validation accuracy here."
   ]
  },
  {
   "cell_type": "code",
   "execution_count": 16,
   "metadata": {
    "collapsed": true
   },
   "outputs": [],
   "source": [
    "# write the code here to get a new `step` operation and then run the cell with training loop above.\n",
    "# name your variables in the same way (e.g. logits, probas, classes, etc) for safety.\n",
    "### YOUR CODE HERE ###\n",
    "logits = tf.layers.dense(input_X, 784, activation=tf.nn.sigmoid)\n",
    "logits12 = tf.layers.dense(logits, 256, activation=tf.nn.sigmoid)\n",
    "logits13 = tf.layers.dense(logits12, 256, activation=tf.nn.sigmoid)\n",
    "logits2 = tf.layers.dense(logits13, 10)\n",
    "\n",
    "probas = tf.nn.softmax(logits2)\n",
    "classes = tf.argmax(probas, axis=1)\n",
    "\n",
    "loss = tf.reduce_mean(tf.nn.softmax_cross_entropy_with_logits(labels=input_y, logits=logits2))\n",
    "\n",
    "step = tf.train.AdamOptimizer(0.003).minimize(loss)"
   ]
  },
  {
   "cell_type": "markdown",
   "metadata": {},
   "source": [
    "# Submit the MLP with 2 hidden layers\n",
    "Run these cells after training the MLP with 2 hidden layers"
   ]
  },
  {
   "cell_type": "code",
   "execution_count": 24,
   "metadata": {
    "collapsed": true
   },
   "outputs": [],
   "source": [
    "## GRADED PART, DO NOT CHANGE!\n",
    "# Validation loss for MLP\n",
    "grader.set_answer(\"i8bgs\", s.run(loss, {input_X: X_val_flat, input_y: y_val_oh}))\n",
    "# Validation accuracy for MLP\n",
    "grader.set_answer(\"rE763\", accuracy_score(y_val, s.run(classes, {input_X: X_val_flat})))"
   ]
  },
  {
   "cell_type": "code",
   "execution_count": 25,
   "metadata": {},
   "outputs": [
    {
     "name": "stdout",
     "output_type": "stream",
     "text": [
      "Submitted to Coursera platform. See results on assignment page!\n"
     ]
    }
   ],
   "source": [
    "# you can make submission with answers so far to check yourself at this stage\n",
    "grader.submit(COURSERA_EMAIL, COURSERA_TOKEN)"
   ]
  },
  {
   "cell_type": "code",
   "execution_count": null,
   "metadata": {
    "collapsed": true
   },
   "outputs": [],
   "source": []
  }
 ],
 "metadata": {
  "kernelspec": {
   "display_name": "Python 3",
   "language": "python",
   "name": "python3"
  },
  "language_info": {
   "codemirror_mode": {
    "name": "ipython",
    "version": 3
   },
   "file_extension": ".py",
   "mimetype": "text/x-python",
   "name": "python",
   "nbconvert_exporter": "python",
   "pygments_lexer": "ipython3",
   "version": "3.6.2"
  }
 },
 "nbformat": 4,
 "nbformat_minor": 1
}
